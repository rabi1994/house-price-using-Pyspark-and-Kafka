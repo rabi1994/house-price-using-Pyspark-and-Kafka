{
 "cells": [
  {
   "cell_type": "code",
   "execution_count": 1,
   "metadata": {},
   "outputs": [],
   "source": [
    "from pyspark.sql.types import Row"
   ]
  },
  {
   "cell_type": "code",
   "execution_count": 2,
   "metadata": {},
   "outputs": [],
   "source": [
    "data=spark.read.csv(\"kc_house_95_data.csv\")# reading the csv file\n"
   ]
  },
  {
   "cell_type": "code",
   "execution_count": 3,
   "metadata": {},
   "outputs": [
    {
     "name": "stdout",
     "output_type": "stream",
     "text": [
      "root\n",
      " |-- _c0: string (nullable = true)\n",
      " |-- _c1: string (nullable = true)\n",
      " |-- _c2: string (nullable = true)\n",
      " |-- _c3: string (nullable = true)\n",
      " |-- _c4: string (nullable = true)\n",
      " |-- _c5: string (nullable = true)\n",
      " |-- _c6: string (nullable = true)\n",
      " |-- _c7: string (nullable = true)\n",
      " |-- _c8: string (nullable = true)\n",
      " |-- _c9: string (nullable = true)\n",
      " |-- _c10: string (nullable = true)\n",
      " |-- _c11: string (nullable = true)\n",
      " |-- _c12: string (nullable = true)\n",
      " |-- _c13: string (nullable = true)\n",
      " |-- _c14: string (nullable = true)\n",
      " |-- _c15: string (nullable = true)\n",
      " |-- _c16: string (nullable = true)\n",
      " |-- _c17: string (nullable = true)\n",
      " |-- _c18: string (nullable = true)\n",
      " |-- _c19: string (nullable = true)\n",
      " |-- _c20: string (nullable = true)\n",
      "\n"
     ]
    }
   ],
   "source": [
    "data.printSchema() # printing Schema from the data "
   ]
  },
  {
   "cell_type": "code",
   "execution_count": 4,
   "metadata": {},
   "outputs": [],
   "source": [
    "# taking an observation and convert each one of the elements to float\n",
    "def convert_to_numbers(my_tuple):\n",
    "    my_list=[]\n",
    "    for element in my_tuple:\n",
    "        my_list.append(float(element))\n",
    "    return tuple(my_list)"
   ]
  },
  {
   "cell_type": "code",
   "execution_count": 5,
   "metadata": {},
   "outputs": [
    {
     "data": {
      "text/plain": [
       "(12, 31, 14, 'rabi', 'tal', 'roi')"
      ]
     },
     "execution_count": 5,
     "metadata": {},
     "output_type": "execute_result"
    }
   ],
   "source": [
    "#concat 2 tuples together \n",
    "def concat_tuples(tuple1,tuple2):\n",
    "    all_elements=[]\n",
    "    for element in tuple1:\n",
    "        all_elements.append(element)\n",
    "    for element in tuple2:\n",
    "        all_elements.append(element)\n",
    "    return tuple(all_elements)\n",
    "concat_tuples((12,31,14),(\"rabi\",\"tal\",'roi'))"
   ]
  },
  {
   "cell_type": "code",
   "execution_count": 6,
   "metadata": {},
   "outputs": [],
   "source": [
    "def delete_row(row,place):\n",
    "    my_list=list(row)\n",
    "    my_list.pop(place)\n",
    "    return tuple(my_list)"
   ]
  },
  {
   "cell_type": "code",
   "execution_count": 7,
   "metadata": {},
   "outputs": [
    {
     "data": {
      "text/plain": [
       "(4, 2, 4, 'rabi')"
      ]
     },
     "execution_count": 7,
     "metadata": {},
     "output_type": "execute_result"
    }
   ],
   "source": [
    "delete_row((4,2,4,\"rabi\",'tal'),4)"
   ]
  },
  {
   "cell_type": "code",
   "execution_count": 8,
   "metadata": {},
   "outputs": [
    {
     "name": "stdout",
     "output_type": "stream",
     "text": [
      "DataFrame[_c0: string, _c1: string, _c2: string, _c3: string, _c4: string, _c5: string, _c6: string, _c7: string, _c8: string, _c9: string, _c10: string, _c11: string, _c12: string, _c13: string, _c14: string, _c15: string, _c16: string, _c17: string, _c18: string, _c19: string, _c20: string]\n"
     ]
    }
   ],
   "source": [
    "print(data)"
   ]
  },
  {
   "cell_type": "code",
   "execution_count": 9,
   "metadata": {},
   "outputs": [],
   "source": [
    "rdd=data.select(\"_c1\",\"_c2\",\"_c3\",\"_c4\",\"_c6\",\"_c7\",\"_c8\",\"_c9\",\"_c10\",\"_c11\",\"_c12\",\"_c13\",\"_c14\",\"_c15\",\"_c19\",\"_c20\").rdd.map(lambda row:(row[0],row[1],row[2],row[3],row[4],row[5],row[6],row[7],row[8],row[9],row[10],row[11],row[12],row[13],row[14],row[15]))"
   ]
  },
  {
   "cell_type": "code",
   "execution_count": 10,
   "metadata": {},
   "outputs": [],
   "source": [
    "#rdd=data.select(\"_c0\",\"_c1\").rdd.map(lambda row:(row[0],row[1]))"
   ]
  },
  {
   "cell_type": "code",
   "execution_count": 11,
   "metadata": {},
   "outputs": [
    {
     "name": "stdout",
     "output_type": "stream",
     "text": [
      "+---------------+--------+--------+---------+--------+------+----------+----+---------+-----+----------+-------------+--------+------------+-------------+----------+\n",
      "|             _1|      _2|      _3|       _4|      _5|    _6|        _7|  _8|       _9|  _10|       _11|          _12|     _13|         _14|          _15|       _16|\n",
      "+---------------+--------+--------+---------+--------+------+----------+----+---------+-----+----------+-------------+--------+------------+-------------+----------+\n",
      "|           date|   price|bedrooms|bathrooms|sqft_lot|floors|waterfront|view|condition|grade|sqft_above|sqft_basement|yr_built|yr_renovated|sqft_living15|sqft_lot15|\n",
      "|20141013T000000|  221900|       3|        1|    5650|     1|         0|   0|        3|    7|      1180|            0|    1955|           0|         1340|      5650|\n",
      "|20141209T000000|  538000|       3|     2.25|    7242|     2|         0|   0|        3|    7|      2170|          400|    1951|        1991|         1690|      7639|\n",
      "|20150225T000000|  180000|       2|        1|   10000|     1|         0|   0|        3|    6|       770|            0|    1933|           0|         2720|      8062|\n",
      "|20141209T000000|  604000|       4|        3|    5000|     1|         0|   0|        5|    7|      1050|          910|    1965|           0|         1360|      5000|\n",
      "|20150218T000000|  510000|       3|        2|    8080|     1|         0|   0|        3|    8|      1680|            0|    1987|           0|         1800|      7503|\n",
      "|20140512T000000|1.23E+06|       4|      4.5|  101930|     1|         0|   0|        3|   11|      3890|         1530|    2001|           0|         4760|    101930|\n",
      "|20140627T000000|  257500|       3|     2.25|    6819|     2|         0|   0|        3|    7|      1715|            0|    1995|           0|         2238|      6819|\n",
      "|20150115T000000|  291850|       3|      1.5|    9711|     1|         0|   0|        3|    7|      1060|            0|    1963|           0|         1650|      9711|\n",
      "|20150415T000000|  229500|       3|        1|    7470|     1|         0|   0|        3|    7|      1050|          730|    1960|           0|         1780|      8113|\n",
      "|20150312T000000|  323000|       3|      2.5|    6560|     2|         0|   0|        3|    7|      1890|            0|    2003|           0|         2390|      7570|\n",
      "|20150403T000000|  662500|       3|      2.5|    9796|     1|         0|   0|        3|    8|      1860|         1700|    1965|           0|         2210|      8925|\n",
      "|20140527T000000|  468000|       2|        1|    6000|     1|         0|   0|        4|    7|       860|          300|    1942|           0|         1330|      6000|\n",
      "|20140528T000000|  310000|       3|        1|   19901|   1.5|         0|   0|        4|    7|      1430|            0|    1927|           0|         1780|     12697|\n",
      "|20141007T000000|  400000|       3|     1.75|    9680|     1|         0|   0|        4|    7|      1370|            0|    1977|           0|         1370|     10208|\n",
      "|20150312T000000|  530000|       5|        2|    4850|   1.5|         0|   0|        3|    7|      1810|            0|    1900|           0|         1360|      4850|\n",
      "|20150124T000000|  650000|       4|        3|    5000|     2|         0|   3|        3|    9|      1980|          970|    1979|           0|         2140|      4000|\n",
      "|20140731T000000|  395000|       3|        2|   14040|     2|         0|   0|        3|    7|      1890|            0|    1994|           0|         1890|     14018|\n",
      "|20140529T000000|  485000|       4|        1|    4300|   1.5|         0|   0|        4|    7|      1600|            0|    1916|           0|         1610|      4300|\n",
      "|20141205T000000|  189000|       2|        1|    9850|     1|         0|   0|        4|    7|      1200|            0|    1921|           0|         1060|      5095|\n",
      "+---------------+--------+--------+---------+--------+------+----------+----+---------+-----+----------+-------------+--------+------------+-------------+----------+\n",
      "only showing top 20 rows\n",
      "\n"
     ]
    }
   ],
   "source": [
    "rdd.toDF().show()"
   ]
  },
  {
   "cell_type": "code",
   "execution_count": 12,
   "metadata": {},
   "outputs": [],
   "source": [
    "# deleting the header of the csv file\n",
    "header=rdd.first()\n",
    "rdd=rdd.filter(lambda row: row != header) "
   ]
  },
  {
   "cell_type": "code",
   "execution_count": 13,
   "metadata": {},
   "outputs": [
    {
     "data": {
      "text/plain": [
       "[12]"
      ]
     },
     "execution_count": 13,
     "metadata": {},
     "output_type": "execute_result"
    }
   ],
   "source": [
    "#getting date and returning month \n",
    "def get_date_details(date):\n",
    "    list_date=[]\n",
    "    month=date[4:6]\n",
    "    list_date.append(int(month))\n",
    "    return (list_date)\n",
    "get_date_details(\"200412\")\n"
   ]
  },
  {
   "cell_type": "code",
   "execution_count": 14,
   "metadata": {},
   "outputs": [],
   "source": [
    "#adding month to the data - modification \n",
    "rdd=rdd.map(lambda row: concat_tuples(row,get_date_details(row[0])))\n",
    "rdd=rdd.map(lambda row : delete_row(row,0))\n"
   ]
  },
  {
   "cell_type": "code",
   "execution_count": 15,
   "metadata": {},
   "outputs": [],
   "source": [
    "# converting all the strings to floating\n",
    "rdd=rdd.map(lambda row: convert_to_numbers(row))#maybe i will delete it later \n"
   ]
  },
  {
   "cell_type": "code",
   "execution_count": 16,
   "metadata": {},
   "outputs": [
    {
     "data": {
      "text/plain": [
       "(0, 0)"
      ]
     },
     "execution_count": 16,
     "metadata": {},
     "output_type": "execute_result"
    }
   ],
   "source": [
    "#if the house got renovated we add boolean column\n",
    "def add_boolean_renovated(row):\n",
    "    \n",
    "    if row!= 0:\n",
    "        return tuple([row,1])\n",
    "    else:\n",
    "        return tuple([row,0])\n",
    "add_boolean_renovated(1921)\n",
    "add_boolean_renovated(0)"
   ]
  },
  {
   "cell_type": "code",
   "execution_count": 17,
   "metadata": {},
   "outputs": [],
   "source": [
    "#adding another column that represent if the house got renovated \n",
    "rdd=rdd.map(lambda row: concat_tuples(row,add_boolean_renovated(row[12])))\n",
    "rdd=rdd.map(lambda row:delete_row(row,12))\n"
   ]
  },
  {
   "cell_type": "code",
   "execution_count": 18,
   "metadata": {},
   "outputs": [],
   "source": [
    "#clearing outliers -modifactaion deleting all the homes that cost more than 2M $\n",
    "rdd=rdd.filter(lambda row: row[0]<1000000)"
   ]
  },
  {
   "cell_type": "code",
   "execution_count": 19,
   "metadata": {},
   "outputs": [
    {
     "data": {
      "text/plain": [
       "(0, 0, 0, 0, 0, 0, 0, 0, 0, 0, 0, 1)"
      ]
     },
     "execution_count": 19,
     "metadata": {},
     "output_type": "execute_result"
    }
   ],
   "source": [
    "def transform_to_oneHotEncoder(row):\n",
    "    months_dictionray={1:(1,0,0,0,0,0,0,0,0,0,0,0),\n",
    "                       2:(0,1,0,0,0,0,0,0,0,0,0,0),\n",
    "                      3:(0,0,1,0,0,0,0,0,0,0,0,0),\n",
    "                      4:(0,0,0,1,0,0,0,0,0,0,0,0),\n",
    "                      5:(0,0,0,0,1,0,0,0,0,0,0,0),\n",
    "                      6:(0,0,0,0,0,1,0,0,0,0,0,0),\n",
    "                      7:(0,0,0,0,0,0,1,0,0,0,0,0),\n",
    "                      8:(0,0,0,0,0,0,0,1,0,0,0,0),\n",
    "                      9:(0,0,0,0,0,0,0,0,1,0,0,0),\n",
    "                      10:(0,0,0,0,0,0,0,0,0,1,0,0),\n",
    "                      11:(0,0,0,0,0,0,0,0,0,0,1,0),\n",
    "                      12:(0,0,0,0,0,0,0,0,0,0,0,1)}\n",
    "    return months_dictionray[row]\n",
    "transform_to_oneHotEncoder(12)"
   ]
  },
  {
   "cell_type": "code",
   "execution_count": 20,
   "metadata": {},
   "outputs": [],
   "source": [
    "rdd=rdd.map(lambda row : concat_tuples(row,transform_to_oneHotEncoder(row[14])))\n",
    "rdd=rdd.map(lambda row: delete_row(row,14))"
   ]
  },
  {
   "cell_type": "code",
   "execution_count": 21,
   "metadata": {},
   "outputs": [
    {
     "name": "stdout",
     "output_type": "stream",
     "text": [
      "+--------+--------+--------+--------+------+----------+----+---------+-----+----------+---------+--------+-------------+----------+------------+---------+-------+-------+-------+-------+-------+-------+-------+-------+-------+--------+--------+--------+\n",
      "|   price|bedrooms|bathroom|sqft_lot|floors|waterfront|view|condition|grade|sqft_above|sqft_base|yr_built|sqft_living15|sqft_lot15|yr_renovated|renovated|month_1|month_2|month_3|month_4|month_5|month_6|month_7|month_8|month_9|month_10|month_11|month_12|\n",
      "+--------+--------+--------+--------+------+----------+----+---------+-----+----------+---------+--------+-------------+----------+------------+---------+-------+-------+-------+-------+-------+-------+-------+-------+-------+--------+--------+--------+\n",
      "|221900.0|     3.0|     1.0|  5650.0|   1.0|       0.0| 0.0|      3.0|  7.0|    1180.0|      0.0|  1955.0|       1340.0|    5650.0|         0.0|        0|      0|      0|      0|      0|      0|      0|      0|      0|      0|       1|       0|       0|\n",
      "|538000.0|     3.0|    2.25|  7242.0|   2.0|       0.0| 0.0|      3.0|  7.0|    2170.0|    400.0|  1951.0|       1690.0|    7639.0|      1991.0|        1|      0|      0|      0|      0|      0|      0|      0|      0|      0|       0|       0|       1|\n",
      "|180000.0|     2.0|     1.0| 10000.0|   1.0|       0.0| 0.0|      3.0|  6.0|     770.0|      0.0|  1933.0|       2720.0|    8062.0|         0.0|        0|      0|      1|      0|      0|      0|      0|      0|      0|      0|       0|       0|       0|\n",
      "|604000.0|     4.0|     3.0|  5000.0|   1.0|       0.0| 0.0|      5.0|  7.0|    1050.0|    910.0|  1965.0|       1360.0|    5000.0|         0.0|        0|      0|      0|      0|      0|      0|      0|      0|      0|      0|       0|       0|       1|\n",
      "|510000.0|     3.0|     2.0|  8080.0|   1.0|       0.0| 0.0|      3.0|  8.0|    1680.0|      0.0|  1987.0|       1800.0|    7503.0|         0.0|        0|      0|      1|      0|      0|      0|      0|      0|      0|      0|       0|       0|       0|\n",
      "|257500.0|     3.0|    2.25|  6819.0|   2.0|       0.0| 0.0|      3.0|  7.0|    1715.0|      0.0|  1995.0|       2238.0|    6819.0|         0.0|        0|      0|      0|      0|      0|      0|      1|      0|      0|      0|       0|       0|       0|\n",
      "|291850.0|     3.0|     1.5|  9711.0|   1.0|       0.0| 0.0|      3.0|  7.0|    1060.0|      0.0|  1963.0|       1650.0|    9711.0|         0.0|        0|      1|      0|      0|      0|      0|      0|      0|      0|      0|       0|       0|       0|\n",
      "|229500.0|     3.0|     1.0|  7470.0|   1.0|       0.0| 0.0|      3.0|  7.0|    1050.0|    730.0|  1960.0|       1780.0|    8113.0|         0.0|        0|      0|      0|      0|      1|      0|      0|      0|      0|      0|       0|       0|       0|\n",
      "|323000.0|     3.0|     2.5|  6560.0|   2.0|       0.0| 0.0|      3.0|  7.0|    1890.0|      0.0|  2003.0|       2390.0|    7570.0|         0.0|        0|      0|      0|      1|      0|      0|      0|      0|      0|      0|       0|       0|       0|\n",
      "|662500.0|     3.0|     2.5|  9796.0|   1.0|       0.0| 0.0|      3.0|  8.0|    1860.0|   1700.0|  1965.0|       2210.0|    8925.0|         0.0|        0|      0|      0|      0|      1|      0|      0|      0|      0|      0|       0|       0|       0|\n",
      "|468000.0|     2.0|     1.0|  6000.0|   1.0|       0.0| 0.0|      4.0|  7.0|     860.0|    300.0|  1942.0|       1330.0|    6000.0|         0.0|        0|      0|      0|      0|      0|      1|      0|      0|      0|      0|       0|       0|       0|\n",
      "|310000.0|     3.0|     1.0| 19901.0|   1.5|       0.0| 0.0|      4.0|  7.0|    1430.0|      0.0|  1927.0|       1780.0|   12697.0|         0.0|        0|      0|      0|      0|      0|      1|      0|      0|      0|      0|       0|       0|       0|\n",
      "|400000.0|     3.0|    1.75|  9680.0|   1.0|       0.0| 0.0|      4.0|  7.0|    1370.0|      0.0|  1977.0|       1370.0|   10208.0|         0.0|        0|      0|      0|      0|      0|      0|      0|      0|      0|      0|       1|       0|       0|\n",
      "|530000.0|     5.0|     2.0|  4850.0|   1.5|       0.0| 0.0|      3.0|  7.0|    1810.0|      0.0|  1900.0|       1360.0|    4850.0|         0.0|        0|      0|      0|      1|      0|      0|      0|      0|      0|      0|       0|       0|       0|\n",
      "|650000.0|     4.0|     3.0|  5000.0|   2.0|       0.0| 3.0|      3.0|  9.0|    1980.0|    970.0|  1979.0|       2140.0|    4000.0|         0.0|        0|      1|      0|      0|      0|      0|      0|      0|      0|      0|       0|       0|       0|\n",
      "|395000.0|     3.0|     2.0| 14040.0|   2.0|       0.0| 0.0|      3.0|  7.0|    1890.0|      0.0|  1994.0|       1890.0|   14018.0|         0.0|        0|      0|      0|      0|      0|      0|      0|      1|      0|      0|       0|       0|       0|\n",
      "|485000.0|     4.0|     1.0|  4300.0|   1.5|       0.0| 0.0|      4.0|  7.0|    1600.0|      0.0|  1916.0|       1610.0|    4300.0|         0.0|        0|      0|      0|      0|      0|      1|      0|      0|      0|      0|       0|       0|       0|\n",
      "|189000.0|     2.0|     1.0|  9850.0|   1.0|       0.0| 0.0|      4.0|  7.0|    1200.0|      0.0|  1921.0|       1060.0|    5095.0|         0.0|        0|      0|      0|      0|      0|      0|      0|      0|      0|      0|       0|       0|       1|\n",
      "|230000.0|     3.0|     1.0|  9774.0|   1.0|       0.0| 0.0|      4.0|  7.0|    1250.0|      0.0|  1969.0|       1280.0|    8850.0|         0.0|        0|      0|      0|      0|      1|      0|      0|      0|      0|      0|       0|       0|       0|\n",
      "|385000.0|     4.0|    1.75|  4980.0|   1.0|       0.0| 0.0|      4.0|  7.0|     860.0|    760.0|  1947.0|       1400.0|    4980.0|         0.0|        0|      0|      0|      0|      0|      1|      0|      0|      0|      0|       0|       0|       0|\n",
      "+--------+--------+--------+--------+------+----------+----+---------+-----+----------+---------+--------+-------------+----------+------------+---------+-------+-------+-------+-------+-------+-------+-------+-------+-------+--------+--------+--------+\n",
      "only showing top 20 rows\n",
      "\n"
     ]
    }
   ],
   "source": [
    "#showing the data \n",
    "df=rdd.map(lambda line : Row(price=line[0],\n",
    "                            bedrooms=line[1],\n",
    "                            bathroom=line[2],\n",
    "                            sqft_lot=line[3],\n",
    "                            floors=line[4],\n",
    "                            waterfront=line[5],\n",
    "                            view=line[6],\n",
    "                            condition=line[7],\n",
    "                            grade=line[8],\n",
    "                            sqft_above=line[9],\n",
    "                            sqft_base=line[10],\n",
    "                          yr_built=line[11],\n",
    "                                sqft_living15=line[12],\n",
    "                                sqft_lot15=line[13],\n",
    "                                yr_renovated=line[14],\n",
    "                                renovated=line[15],\n",
    "                               month_1=line[16], \n",
    "                                month_2=line[17],\n",
    "                                month_3=line[18],\n",
    "                                month_4=line[19],\n",
    "                                month_5=line[20],\n",
    "                                month_6=line[21],\n",
    "                                month_7=line[22], \n",
    "                                month_8=line[23],\n",
    "                                month_9=line[24],\n",
    "                                month_10=line[25],\n",
    "                                month_11=line[26],\n",
    "                                month_12=line[27])).toDF()\n",
    "df.show()"
   ]
  },
  {
   "cell_type": "code",
   "execution_count": null,
   "metadata": {},
   "outputs": [],
   "source": []
  },
  {
   "cell_type": "code",
   "execution_count": 22,
   "metadata": {},
   "outputs": [
    {
     "name": "stdout",
     "output_type": "stream",
     "text": [
      "DataFrame[price: double, bedrooms: double, bathroom: double, sqft_lot: double, floors: double, waterfront: double, view: double, condition: double, grade: double, sqft_above: double, sqft_base: double, yr_built: double, sqft_living15: double, sqft_lot15: double, yr_renovated: double, renovated: bigint, month_1: bigint, month_2: bigint, month_3: bigint, month_4: bigint, month_5: bigint, month_6: bigint, month_7: bigint, month_8: bigint, month_9: bigint, month_10: bigint, month_11: bigint, month_12: bigint]\n"
     ]
    }
   ],
   "source": [
    "print(df)"
   ]
  },
  {
   "cell_type": "code",
   "execution_count": 23,
   "metadata": {},
   "outputs": [],
   "source": [
    "# creating dataFrame to monitor the models \n",
    "# model - name of thee model \n",
    "# correlated if we took correlated featuers of not \n",
    "# rmse - root mean squared error - metric \n",
    "import pandas as pd\n",
    "rmse_and_models_data=pd.DataFrame(columns=['model','correlated','rmse'])"
   ]
  },
  {
   "cell_type": "code",
   "execution_count": 24,
   "metadata": {},
   "outputs": [],
   "source": [
    "from pyspark.ml.regression import RandomForestRegressor\n",
    "from pyspark.ml import Pipeline\n",
    "from pyspark.ml.linalg import Vectors\n",
    "from pyspark.ml.feature import VectorIndexer\n",
    "from pyspark.ml.evaluation import RegressionEvaluator\n",
    "from pyspark.ml.regression import LinearRegression\n",
    "from pyspark.ml.evaluation import RegressionEvaluator\n",
    "from pyspark.ml.regression import GBTRegressor\n"
   ]
  },
  {
   "cell_type": "code",
   "execution_count": 25,
   "metadata": {},
   "outputs": [],
   "source": [
    "# splitting the data to label and features before predicting\n",
    "# row[0] = price row[1:] =features \n",
    "def transData(data):\n",
    "    return data.rdd.map(lambda row: [Vectors.dense(row[1:]),row[0]]).toDF(['features','label'])\n"
   ]
  },
  {
   "cell_type": "markdown",
   "metadata": {},
   "source": [
    "random forest"
   ]
  },
  {
   "cell_type": "code",
   "execution_count": 26,
   "metadata": {},
   "outputs": [
    {
     "name": "stdout",
     "output_type": "stream",
     "text": [
      "+--------------------+--------+\n",
      "|            features|   label|\n",
      "+--------------------+--------+\n",
      "|[3.0,1.0,5650.0,1...|221900.0|\n",
      "|[3.0,2.25,7242.0,...|538000.0|\n",
      "|[2.0,1.0,10000.0,...|180000.0|\n",
      "|[4.0,3.0,5000.0,1...|604000.0|\n",
      "|[3.0,2.0,8080.0,1...|510000.0|\n",
      "+--------------------+--------+\n",
      "only showing top 5 rows\n",
      "\n"
     ]
    }
   ],
   "source": [
    "#activate the function\n",
    "transformed=transData(df)\n",
    "transformed.show(5)"
   ]
  },
  {
   "cell_type": "code",
   "execution_count": 27,
   "metadata": {},
   "outputs": [
    {
     "name": "stdout",
     "output_type": "stream",
     "text": [
      "+--------------------+--------+--------------------+\n",
      "|            features|   label|      scaledFeatures|\n",
      "+--------------------+--------+--------------------+\n",
      "|[3.0,1.0,5650.0,1...|221900.0|[3.28811508838571...|\n",
      "|[3.0,2.25,7242.0,...|538000.0|[3.28811508838571...|\n",
      "|[2.0,1.0,10000.0,...|180000.0|[2.19207672559047...|\n",
      "|[4.0,3.0,5000.0,1...|604000.0|[4.38415345118095...|\n",
      "|[3.0,2.0,8080.0,1...|510000.0|[3.28811508838571...|\n",
      "|[3.0,2.25,6819.0,...|257500.0|[3.28811508838571...|\n",
      "|[3.0,1.5,9711.0,1...|291850.0|[3.28811508838571...|\n",
      "|[3.0,1.0,7470.0,1...|229500.0|[3.28811508838571...|\n",
      "|[3.0,2.5,6560.0,2...|323000.0|[3.28811508838571...|\n",
      "|[3.0,2.5,9796.0,1...|662500.0|[3.28811508838571...|\n",
      "|[2.0,1.0,6000.0,1...|468000.0|[2.19207672559047...|\n",
      "|[3.0,1.0,19901.0,...|310000.0|[3.28811508838571...|\n",
      "|[3.0,1.75,9680.0,...|400000.0|[3.28811508838571...|\n",
      "|[5.0,2.0,4850.0,1...|530000.0|[5.48019181397619...|\n",
      "|[4.0,3.0,5000.0,2...|650000.0|[4.38415345118095...|\n",
      "|[3.0,2.0,14040.0,...|395000.0|[3.28811508838571...|\n",
      "|[4.0,1.0,4300.0,1...|485000.0|[4.38415345118095...|\n",
      "|[2.0,1.0,9850.0,1...|189000.0|[2.19207672559047...|\n",
      "|[3.0,1.0,9774.0,1...|230000.0|[3.28811508838571...|\n",
      "|[4.0,1.75,4980.0,...|385000.0|[4.38415345118095...|\n",
      "+--------------------+--------+--------------------+\n",
      "only showing top 20 rows\n",
      "\n"
     ]
    }
   ],
   "source": [
    "from pyspark.ml.feature import StandardScaler\n",
    "\n",
    "scaler = StandardScaler(inputCol=\"features\", outputCol=\"scaledFeatures\",\n",
    "                        withStd=True, withMean=False)\n",
    "\n",
    "# Compute summary statistics by fitting the StandardScaler\n",
    "scalerModel = scaler.fit(transformed)\n",
    "\n",
    "# Normalize each feature to have unit standard deviation.\n",
    "scaledData = scalerModel.transform(transformed)\n",
    "scaledData.show()"
   ]
  },
  {
   "cell_type": "code",
   "execution_count": 28,
   "metadata": {},
   "outputs": [
    {
     "name": "stdout",
     "output_type": "stream",
     "text": [
      "+--------------------+--------+--------------------+\n",
      "|            features|   label|     indexedFeatures|\n",
      "+--------------------+--------+--------------------+\n",
      "|[3.0,1.0,5650.0,1...|221900.0|[3.0,1.0,5650.0,1...|\n",
      "|[3.0,2.25,7242.0,...|538000.0|[3.0,2.25,7242.0,...|\n",
      "|[2.0,1.0,10000.0,...|180000.0|[2.0,1.0,10000.0,...|\n",
      "|[4.0,3.0,5000.0,1...|604000.0|[4.0,3.0,5000.0,1...|\n",
      "|[3.0,2.0,8080.0,1...|510000.0|[3.0,2.0,8080.0,1...|\n",
      "+--------------------+--------+--------------------+\n",
      "only showing top 5 rows\n",
      "\n"
     ]
    }
   ],
   "source": [
    "# preparing the data before activating the model \n",
    "featureIndexer= VectorIndexer(inputCol=\"features\",outputCol=\"indexedFeatures\",maxCategories=4).fit(transformed)\n",
    "data= featureIndexer.transform(transformed)\n",
    "data.show(5,True)"
   ]
  },
  {
   "cell_type": "code",
   "execution_count": 29,
   "metadata": {},
   "outputs": [],
   "source": [
    "#spliting the data to training data and test data \n",
    "(trainingData, testData)= data.randomSplit([0.8,0.2])\n",
    "corr=False"
   ]
  },
  {
   "cell_type": "code",
   "execution_count": 30,
   "metadata": {},
   "outputs": [],
   "source": [
    "def getModelAndPrintRMSE(trainData,testData,model):\n",
    "    pipeline=Pipeline(stages=[featureIndexer,model])\n",
    "    my_model=pipeline.fit(trainData)\n",
    "    predictions=my_model.transform(testData)\n",
    "    predictions.select(\"features\",\"label\",\"prediction\").show(5)\n",
    "    evaluator = RegressionEvaluator(labelCol=\"label\",predictionCol=\"prediction\",metricName=\"rmse\")\n",
    "    rmse=evaluator.evaluate(predictions)\n",
    "    print(f'\\nrmse : {rmse}\\n')\n",
    "    return my_model,rmse"
   ]
  },
  {
   "cell_type": "code",
   "execution_count": 31,
   "metadata": {},
   "outputs": [
    {
     "name": "stdout",
     "output_type": "stream",
     "text": [
      "+--------------------+--------+------------------+\n",
      "|            features|   label|        prediction|\n",
      "+--------------------+--------+------------------+\n",
      "|[0.0,0.0,4269.0,1...|139950.0|376216.72077718086|\n",
      "|[0.0,0.75,213444....|265000.0|338546.95814008696|\n",
      "|[0.0,2.5,7111.0,2...|320000.0|393482.80202874175|\n",
      "|[1.0,0.75,1284.0,...|290000.0|  365540.787216107|\n",
      "|[1.0,0.75,5050.0,...| 80000.0|314945.17676816205|\n",
      "+--------------------+--------+------------------+\n",
      "only showing top 5 rows\n",
      "\n",
      "\n",
      "rmse : 134737.81099529515\n",
      "\n"
     ]
    }
   ],
   "source": [
    "rf=RandomForestRegressor(featuresCol='features',numTrees=200,minInfoGain=0.6,maxDepth=4)\n",
    "model,rmse=getModelAndPrintRMSE(trainingData,testData,rf)"
   ]
  },
  {
   "cell_type": "code",
   "execution_count": 32,
   "metadata": {},
   "outputs": [],
   "source": [
    "rmse_and_models_data.loc[0]=[\"random forest\"]+[corr]+[rmse]"
   ]
  },
  {
   "cell_type": "code",
   "execution_count": 33,
   "metadata": {},
   "outputs": [
    {
     "data": {
      "text/html": [
       "<div>\n",
       "<style scoped>\n",
       "    .dataframe tbody tr th:only-of-type {\n",
       "        vertical-align: middle;\n",
       "    }\n",
       "\n",
       "    .dataframe tbody tr th {\n",
       "        vertical-align: top;\n",
       "    }\n",
       "\n",
       "    .dataframe thead th {\n",
       "        text-align: right;\n",
       "    }\n",
       "</style>\n",
       "<table border=\"1\" class=\"dataframe\">\n",
       "  <thead>\n",
       "    <tr style=\"text-align: right;\">\n",
       "      <th></th>\n",
       "      <th>model</th>\n",
       "      <th>correlated</th>\n",
       "      <th>rmse</th>\n",
       "    </tr>\n",
       "  </thead>\n",
       "  <tbody>\n",
       "    <tr>\n",
       "      <th>0</th>\n",
       "      <td>random forest</td>\n",
       "      <td>False</td>\n",
       "      <td>134737.810995</td>\n",
       "    </tr>\n",
       "  </tbody>\n",
       "</table>\n",
       "</div>"
      ],
      "text/plain": [
       "           model correlated           rmse\n",
       "0  random forest      False  134737.810995"
      ]
     },
     "execution_count": 33,
     "metadata": {},
     "output_type": "execute_result"
    }
   ],
   "source": [
    "rmse_and_models_data"
   ]
  },
  {
   "cell_type": "markdown",
   "metadata": {},
   "source": [
    "lets try linear regression model "
   ]
  },
  {
   "cell_type": "code",
   "execution_count": 34,
   "metadata": {},
   "outputs": [
    {
     "name": "stdout",
     "output_type": "stream",
     "text": [
      "+--------------------+--------+-------------------+\n",
      "|            features|   label|         prediction|\n",
      "+--------------------+--------+-------------------+\n",
      "|[0.0,0.0,4269.0,1...|139950.0| 469861.79144739616|\n",
      "|[0.0,0.75,213444....|265000.0|-63593.190074672224|\n",
      "|[0.0,2.5,7111.0,2...|320000.0| 345884.53993288404|\n",
      "|[1.0,0.75,1284.0,...|290000.0| 325206.53868422355|\n",
      "|[1.0,0.75,5050.0,...| 80000.0|  134577.5614507373|\n",
      "+--------------------+--------+-------------------+\n",
      "only showing top 5 rows\n",
      "\n",
      "\n",
      "rmse : 126608.49590846692\n",
      "\n"
     ]
    }
   ],
   "source": [
    "lr=LinearRegression(featuresCol='features',maxIter=10000,tol=0.001)\n",
    "lr_model,rmse=getModelAndPrintRMSE(trainingData,testData,lr)"
   ]
  },
  {
   "cell_type": "code",
   "execution_count": 35,
   "metadata": {},
   "outputs": [
    {
     "data": {
      "text/html": [
       "<div>\n",
       "<style scoped>\n",
       "    .dataframe tbody tr th:only-of-type {\n",
       "        vertical-align: middle;\n",
       "    }\n",
       "\n",
       "    .dataframe tbody tr th {\n",
       "        vertical-align: top;\n",
       "    }\n",
       "\n",
       "    .dataframe thead th {\n",
       "        text-align: right;\n",
       "    }\n",
       "</style>\n",
       "<table border=\"1\" class=\"dataframe\">\n",
       "  <thead>\n",
       "    <tr style=\"text-align: right;\">\n",
       "      <th></th>\n",
       "      <th>model</th>\n",
       "      <th>correlated</th>\n",
       "      <th>rmse</th>\n",
       "    </tr>\n",
       "  </thead>\n",
       "  <tbody>\n",
       "    <tr>\n",
       "      <th>0</th>\n",
       "      <td>random forest</td>\n",
       "      <td>False</td>\n",
       "      <td>134737.810995</td>\n",
       "    </tr>\n",
       "    <tr>\n",
       "      <th>1</th>\n",
       "      <td>linear regression</td>\n",
       "      <td>False</td>\n",
       "      <td>126608.495908</td>\n",
       "    </tr>\n",
       "  </tbody>\n",
       "</table>\n",
       "</div>"
      ],
      "text/plain": [
       "               model correlated           rmse\n",
       "0      random forest      False  134737.810995\n",
       "1  linear regression      False  126608.495908"
      ]
     },
     "execution_count": 35,
     "metadata": {},
     "output_type": "execute_result"
    }
   ],
   "source": [
    "rmse_and_models_data.loc[1]=[\"linear regression\"]+[corr]+[rmse]\n",
    "rmse_and_models_data"
   ]
  },
  {
   "cell_type": "markdown",
   "metadata": {},
   "source": [
    "Gradient boosted trees"
   ]
  },
  {
   "cell_type": "code",
   "execution_count": 36,
   "metadata": {},
   "outputs": [
    {
     "name": "stdout",
     "output_type": "stream",
     "text": [
      "+--------------------+--------+------------------+\n",
      "|            features|   label|        prediction|\n",
      "+--------------------+--------+------------------+\n",
      "|[0.0,0.0,4269.0,1...|139950.0|  323949.465406098|\n",
      "|[0.0,0.75,213444....|265000.0| 362789.5046319711|\n",
      "|[0.0,2.5,7111.0,2...|320000.0| 319944.8479993678|\n",
      "|[1.0,0.75,1284.0,...|290000.0|406524.50190776674|\n",
      "|[1.0,0.75,5050.0,...| 80000.0|205407.28707083897|\n",
      "+--------------------+--------+------------------+\n",
      "only showing top 5 rows\n",
      "\n",
      "\n",
      "rmse : 119220.55308168067\n",
      "\n"
     ]
    }
   ],
   "source": [
    "gbt=GBTRegressor(maxIter=50,stepSize=0.1,minInfoGain=0.4,maxDepth=5)\n",
    "gbt_model,rmse=getModelAndPrintRMSE(trainingData,testData,gbt)"
   ]
  },
  {
   "cell_type": "code",
   "execution_count": 37,
   "metadata": {},
   "outputs": [
    {
     "data": {
      "text/html": [
       "<div>\n",
       "<style scoped>\n",
       "    .dataframe tbody tr th:only-of-type {\n",
       "        vertical-align: middle;\n",
       "    }\n",
       "\n",
       "    .dataframe tbody tr th {\n",
       "        vertical-align: top;\n",
       "    }\n",
       "\n",
       "    .dataframe thead th {\n",
       "        text-align: right;\n",
       "    }\n",
       "</style>\n",
       "<table border=\"1\" class=\"dataframe\">\n",
       "  <thead>\n",
       "    <tr style=\"text-align: right;\">\n",
       "      <th></th>\n",
       "      <th>model</th>\n",
       "      <th>correlated</th>\n",
       "      <th>rmse</th>\n",
       "    </tr>\n",
       "  </thead>\n",
       "  <tbody>\n",
       "    <tr>\n",
       "      <th>0</th>\n",
       "      <td>random forest</td>\n",
       "      <td>False</td>\n",
       "      <td>134737.810995</td>\n",
       "    </tr>\n",
       "    <tr>\n",
       "      <th>1</th>\n",
       "      <td>linear regression</td>\n",
       "      <td>False</td>\n",
       "      <td>126608.495908</td>\n",
       "    </tr>\n",
       "    <tr>\n",
       "      <th>2</th>\n",
       "      <td>gradient boosted tree</td>\n",
       "      <td>False</td>\n",
       "      <td>119220.553082</td>\n",
       "    </tr>\n",
       "  </tbody>\n",
       "</table>\n",
       "</div>"
      ],
      "text/plain": [
       "                   model correlated           rmse\n",
       "0          random forest      False  134737.810995\n",
       "1      linear regression      False  126608.495908\n",
       "2  gradient boosted tree      False  119220.553082"
      ]
     },
     "execution_count": 37,
     "metadata": {},
     "output_type": "execute_result"
    }
   ],
   "source": [
    "rmse_and_models_data.loc[2]=[\"gradient boosted tree\"]+[corr]+[rmse]\n",
    "rmse_and_models_data"
   ]
  },
  {
   "cell_type": "markdown",
   "metadata": {},
   "source": [
    "reload the data and try with correlations"
   ]
  },
  {
   "cell_type": "code",
   "execution_count": 38,
   "metadata": {},
   "outputs": [],
   "source": [
    "corr_data=spark.read.csv(\"kc_house_95_data.csv\")\n",
    "corr=True"
   ]
  },
  {
   "cell_type": "code",
   "execution_count": 39,
   "metadata": {},
   "outputs": [],
   "source": [
    "corr_rdd=corr_data.select(\"_c1\",\"_c2\",\"_c3\",\"_c4\",\"_c5\",\"_c11\",\"_c19\",\"_c20\").rdd.map(lambda row:(row[0],row[1],row[2],row[3],row[4],row[5],row[6],row[7]))"
   ]
  },
  {
   "cell_type": "code",
   "execution_count": 40,
   "metadata": {},
   "outputs": [
    {
     "name": "stdout",
     "output_type": "stream",
     "text": [
      "+---------------+--------+--------+---------+-----------+-----+-------------+----------+\n",
      "|             _1|      _2|      _3|       _4|         _5|   _6|           _7|        _8|\n",
      "+---------------+--------+--------+---------+-----------+-----+-------------+----------+\n",
      "|           date|   price|bedrooms|bathrooms|sqft_living|grade|sqft_living15|sqft_lot15|\n",
      "|20141013T000000|  221900|       3|        1|       1180|    7|         1340|      5650|\n",
      "|20141209T000000|  538000|       3|     2.25|       2570|    7|         1690|      7639|\n",
      "|20150225T000000|  180000|       2|        1|        770|    6|         2720|      8062|\n",
      "|20141209T000000|  604000|       4|        3|       1960|    7|         1360|      5000|\n",
      "|20150218T000000|  510000|       3|        2|       1680|    8|         1800|      7503|\n",
      "|20140512T000000|1.23E+06|       4|      4.5|       5420|   11|         4760|    101930|\n",
      "|20140627T000000|  257500|       3|     2.25|       1715|    7|         2238|      6819|\n",
      "|20150115T000000|  291850|       3|      1.5|       1060|    7|         1650|      9711|\n",
      "|20150415T000000|  229500|       3|        1|       1780|    7|         1780|      8113|\n",
      "|20150312T000000|  323000|       3|      2.5|       1890|    7|         2390|      7570|\n",
      "|20150403T000000|  662500|       3|      2.5|       3560|    8|         2210|      8925|\n",
      "|20140527T000000|  468000|       2|        1|       1160|    7|         1330|      6000|\n",
      "|20140528T000000|  310000|       3|        1|       1430|    7|         1780|     12697|\n",
      "|20141007T000000|  400000|       3|     1.75|       1370|    7|         1370|     10208|\n",
      "|20150312T000000|  530000|       5|        2|       1810|    7|         1360|      4850|\n",
      "|20150124T000000|  650000|       4|        3|       2950|    9|         2140|      4000|\n",
      "|20140731T000000|  395000|       3|        2|       1890|    7|         1890|     14018|\n",
      "|20140529T000000|  485000|       4|        1|       1600|    7|         1610|      4300|\n",
      "|20141205T000000|  189000|       2|        1|       1200|    7|         1060|      5095|\n",
      "+---------------+--------+--------+---------+-----------+-----+-------------+----------+\n",
      "only showing top 20 rows\n",
      "\n"
     ]
    }
   ],
   "source": [
    "corr_rdd.toDF().show()"
   ]
  },
  {
   "cell_type": "code",
   "execution_count": 42,
   "metadata": {},
   "outputs": [],
   "source": [
    "header=corr_rdd.first()\n",
    "corr_rdd=corr_rdd.filter(lambda row: row != header)\n",
    "corr_rdd=corr_rdd.map(lambda row:concat_tuples(row,get_date_details(row[0])))\n",
    "corr_rdd=corr_rdd.map(lambda row : delete_row(row,0))\n",
    "corr_rdd=corr_rdd.map(lambda row: convert_to_numbers(row))\n",
    "corr_rdd=corr_rdd.map(lambda row: concat_tuples(row,transform_to_oneHotEncoder(row[7])))\n",
    "corr_rdd=corr_rdd.map(lambda row:delete_row(row,7))\n",
    "\n",
    "corr_rdd=corr_rdd.filter(lambda row:row[1]<1000000)"
   ]
  },
  {
   "cell_type": "code",
   "execution_count": 43,
   "metadata": {},
   "outputs": [
    {
     "name": "stdout",
     "output_type": "stream",
     "text": [
      "+---------+--------+--------+-----------+-----+-------------+----------+-------+-------+-------+-------+-------+-------+-------+-------+-------+--------+--------+--------+\n",
      "|    price|bedrooms|bathroom|sqft_living|grade|sqft_living15|sqft_lot15|month_1|month_2|month_3|month_4|month_5|month_6|month_7|month_8|month_9|month_10|month_11|month_12|\n",
      "+---------+--------+--------+-----------+-----+-------------+----------+-------+-------+-------+-------+-------+-------+-------+-------+-------+--------+--------+--------+\n",
      "| 221900.0|     3.0|     1.0|     1180.0|  7.0|       1340.0|    5650.0|      0|      0|      0|      0|      0|      0|      0|      0|      0|       1|       0|       0|\n",
      "| 538000.0|     3.0|    2.25|     2570.0|  7.0|       1690.0|    7639.0|      0|      0|      0|      0|      0|      0|      0|      0|      0|       0|       0|       1|\n",
      "| 180000.0|     2.0|     1.0|      770.0|  6.0|       2720.0|    8062.0|      0|      1|      0|      0|      0|      0|      0|      0|      0|       0|       0|       0|\n",
      "| 604000.0|     4.0|     3.0|     1960.0|  7.0|       1360.0|    5000.0|      0|      0|      0|      0|      0|      0|      0|      0|      0|       0|       0|       1|\n",
      "| 510000.0|     3.0|     2.0|     1680.0|  8.0|       1800.0|    7503.0|      0|      1|      0|      0|      0|      0|      0|      0|      0|       0|       0|       0|\n",
      "|1230000.0|     4.0|     4.5|     5420.0| 11.0|       4760.0|  101930.0|      0|      0|      0|      0|      1|      0|      0|      0|      0|       0|       0|       0|\n",
      "| 257500.0|     3.0|    2.25|     1715.0|  7.0|       2238.0|    6819.0|      0|      0|      0|      0|      0|      1|      0|      0|      0|       0|       0|       0|\n",
      "| 291850.0|     3.0|     1.5|     1060.0|  7.0|       1650.0|    9711.0|      1|      0|      0|      0|      0|      0|      0|      0|      0|       0|       0|       0|\n",
      "| 229500.0|     3.0|     1.0|     1780.0|  7.0|       1780.0|    8113.0|      0|      0|      0|      1|      0|      0|      0|      0|      0|       0|       0|       0|\n",
      "| 323000.0|     3.0|     2.5|     1890.0|  7.0|       2390.0|    7570.0|      0|      0|      1|      0|      0|      0|      0|      0|      0|       0|       0|       0|\n",
      "| 662500.0|     3.0|     2.5|     3560.0|  8.0|       2210.0|    8925.0|      0|      0|      0|      1|      0|      0|      0|      0|      0|       0|       0|       0|\n",
      "| 468000.0|     2.0|     1.0|     1160.0|  7.0|       1330.0|    6000.0|      0|      0|      0|      0|      1|      0|      0|      0|      0|       0|       0|       0|\n",
      "| 310000.0|     3.0|     1.0|     1430.0|  7.0|       1780.0|   12697.0|      0|      0|      0|      0|      1|      0|      0|      0|      0|       0|       0|       0|\n",
      "| 400000.0|     3.0|    1.75|     1370.0|  7.0|       1370.0|   10208.0|      0|      0|      0|      0|      0|      0|      0|      0|      0|       1|       0|       0|\n",
      "| 530000.0|     5.0|     2.0|     1810.0|  7.0|       1360.0|    4850.0|      0|      0|      1|      0|      0|      0|      0|      0|      0|       0|       0|       0|\n",
      "| 650000.0|     4.0|     3.0|     2950.0|  9.0|       2140.0|    4000.0|      1|      0|      0|      0|      0|      0|      0|      0|      0|       0|       0|       0|\n",
      "| 395000.0|     3.0|     2.0|     1890.0|  7.0|       1890.0|   14018.0|      0|      0|      0|      0|      0|      0|      1|      0|      0|       0|       0|       0|\n",
      "| 485000.0|     4.0|     1.0|     1600.0|  7.0|       1610.0|    4300.0|      0|      0|      0|      0|      1|      0|      0|      0|      0|       0|       0|       0|\n",
      "| 189000.0|     2.0|     1.0|     1200.0|  7.0|       1060.0|    5095.0|      0|      0|      0|      0|      0|      0|      0|      0|      0|       0|       0|       1|\n",
      "| 230000.0|     3.0|     1.0|     1250.0|  7.0|       1280.0|    8850.0|      0|      0|      0|      1|      0|      0|      0|      0|      0|       0|       0|       0|\n",
      "+---------+--------+--------+-----------+-----+-------------+----------+-------+-------+-------+-------+-------+-------+-------+-------+-------+--------+--------+--------+\n",
      "only showing top 20 rows\n",
      "\n"
     ]
    }
   ],
   "source": [
    "corr_df=corr_rdd.map(lambda line : Row(price=line[0],\n",
    "                            bedrooms=line[1],\n",
    "                            bathroom=line[2],\n",
    "                            sqft_living=line[3],\n",
    "                            grade=line[4],\n",
    "                            sqft_living15=line[5],\n",
    "                            sqft_lot15=line[6],\n",
    "                                month_1=line[7], \n",
    "                                month_2=line[8],\n",
    "                                month_3=line[9],\n",
    "                                month_4=line[10],\n",
    "                                month_5=line[11],\n",
    "                                month_6=line[12],\n",
    "                                month_7=line[13], \n",
    "                                month_8=line[14],\n",
    "                                month_9=line[15],\n",
    "                                month_10=line[16],\n",
    "                                month_11=line[17],\n",
    "                                month_12=line[18]\n",
    "                           )).toDF()\n",
    "corr_df.show()"
   ]
  },
  {
   "cell_type": "code",
   "execution_count": 44,
   "metadata": {},
   "outputs": [
    {
     "name": "stdout",
     "output_type": "stream",
     "text": [
      "+---------+---+----+------+----+------+--------+---+---+---+---+---+---+---+---+---+---+---+---+\n",
      "|       _1| _2|  _3|    _4|  _5|    _6|      _7| _8| _9|_10|_11|_12|_13|_14|_15|_16|_17|_18|_19|\n",
      "+---------+---+----+------+----+------+--------+---+---+---+---+---+---+---+---+---+---+---+---+\n",
      "| 221900.0|3.0| 1.0|1180.0| 7.0|1340.0|  5650.0|  0|  0|  0|  0|  0|  0|  0|  0|  0|  1|  0|  0|\n",
      "| 538000.0|3.0|2.25|2570.0| 7.0|1690.0|  7639.0|  0|  0|  0|  0|  0|  0|  0|  0|  0|  0|  0|  1|\n",
      "| 180000.0|2.0| 1.0| 770.0| 6.0|2720.0|  8062.0|  0|  1|  0|  0|  0|  0|  0|  0|  0|  0|  0|  0|\n",
      "| 604000.0|4.0| 3.0|1960.0| 7.0|1360.0|  5000.0|  0|  0|  0|  0|  0|  0|  0|  0|  0|  0|  0|  1|\n",
      "| 510000.0|3.0| 2.0|1680.0| 8.0|1800.0|  7503.0|  0|  1|  0|  0|  0|  0|  0|  0|  0|  0|  0|  0|\n",
      "|1230000.0|4.0| 4.5|5420.0|11.0|4760.0|101930.0|  0|  0|  0|  0|  1|  0|  0|  0|  0|  0|  0|  0|\n",
      "| 257500.0|3.0|2.25|1715.0| 7.0|2238.0|  6819.0|  0|  0|  0|  0|  0|  1|  0|  0|  0|  0|  0|  0|\n",
      "| 291850.0|3.0| 1.5|1060.0| 7.0|1650.0|  9711.0|  1|  0|  0|  0|  0|  0|  0|  0|  0|  0|  0|  0|\n",
      "| 229500.0|3.0| 1.0|1780.0| 7.0|1780.0|  8113.0|  0|  0|  0|  1|  0|  0|  0|  0|  0|  0|  0|  0|\n",
      "| 323000.0|3.0| 2.5|1890.0| 7.0|2390.0|  7570.0|  0|  0|  1|  0|  0|  0|  0|  0|  0|  0|  0|  0|\n",
      "| 662500.0|3.0| 2.5|3560.0| 8.0|2210.0|  8925.0|  0|  0|  0|  1|  0|  0|  0|  0|  0|  0|  0|  0|\n",
      "| 468000.0|2.0| 1.0|1160.0| 7.0|1330.0|  6000.0|  0|  0|  0|  0|  1|  0|  0|  0|  0|  0|  0|  0|\n",
      "| 310000.0|3.0| 1.0|1430.0| 7.0|1780.0| 12697.0|  0|  0|  0|  0|  1|  0|  0|  0|  0|  0|  0|  0|\n",
      "| 400000.0|3.0|1.75|1370.0| 7.0|1370.0| 10208.0|  0|  0|  0|  0|  0|  0|  0|  0|  0|  1|  0|  0|\n",
      "| 530000.0|5.0| 2.0|1810.0| 7.0|1360.0|  4850.0|  0|  0|  1|  0|  0|  0|  0|  0|  0|  0|  0|  0|\n",
      "| 650000.0|4.0| 3.0|2950.0| 9.0|2140.0|  4000.0|  1|  0|  0|  0|  0|  0|  0|  0|  0|  0|  0|  0|\n",
      "| 395000.0|3.0| 2.0|1890.0| 7.0|1890.0| 14018.0|  0|  0|  0|  0|  0|  0|  1|  0|  0|  0|  0|  0|\n",
      "| 485000.0|4.0| 1.0|1600.0| 7.0|1610.0|  4300.0|  0|  0|  0|  0|  1|  0|  0|  0|  0|  0|  0|  0|\n",
      "| 189000.0|2.0| 1.0|1200.0| 7.0|1060.0|  5095.0|  0|  0|  0|  0|  0|  0|  0|  0|  0|  0|  0|  1|\n",
      "| 230000.0|3.0| 1.0|1250.0| 7.0|1280.0|  8850.0|  0|  0|  0|  1|  0|  0|  0|  0|  0|  0|  0|  0|\n",
      "+---------+---+----+------+----+------+--------+---+---+---+---+---+---+---+---+---+---+---+---+\n",
      "only showing top 20 rows\n",
      "\n"
     ]
    }
   ],
   "source": [
    "corr_rdd.toDF().show()"
   ]
  },
  {
   "cell_type": "code",
   "execution_count": 45,
   "metadata": {},
   "outputs": [
    {
     "name": "stdout",
     "output_type": "stream",
     "text": [
      "+--------------------+--------+\n",
      "|            features|   label|\n",
      "+--------------------+--------+\n",
      "|[3.0,1.0,1180.0,7...|221900.0|\n",
      "|[3.0,2.25,2570.0,...|538000.0|\n",
      "|[2.0,1.0,770.0,6....|180000.0|\n",
      "|[4.0,3.0,1960.0,7...|604000.0|\n",
      "|[3.0,2.0,1680.0,8...|510000.0|\n",
      "+--------------------+--------+\n",
      "only showing top 5 rows\n",
      "\n"
     ]
    }
   ],
   "source": [
    "corr_transformed=transData(corr_df)\n",
    "corr_transformed.show(5)"
   ]
  },
  {
   "cell_type": "code",
   "execution_count": 46,
   "metadata": {},
   "outputs": [
    {
     "name": "stdout",
     "output_type": "stream",
     "text": [
      "+--------------------+--------+--------------------+\n",
      "|            features|   label|      scaledFeatures|\n",
      "+--------------------+--------+--------------------+\n",
      "|[3.0,1.0,1180.0,7...|221900.0|[3.21960992146999...|\n",
      "|[3.0,2.25,2570.0,...|538000.0|[3.21960992146999...|\n",
      "+--------------------+--------+--------------------+\n",
      "only showing top 2 rows\n",
      "\n"
     ]
    }
   ],
   "source": [
    "#standardScaler for corr data\n",
    "from pyspark.ml.feature import StandardScaler\n",
    "\n",
    "scaler = StandardScaler(inputCol=\"features\", outputCol=\"scaledFeatures\",\n",
    "                        withStd=True, withMean=False)\n",
    "\n",
    "# Compute summary statistics by fitting the StandardScaler\n",
    "scalerModel = scaler.fit(corr_transformed)\n",
    "\n",
    "# Normalize each feature to have unit standard deviation.\n",
    "corr_scaledData = scalerModel.transform(corr_transformed)\n",
    "corr_scaledData.show(2)"
   ]
  },
  {
   "cell_type": "code",
   "execution_count": 47,
   "metadata": {},
   "outputs": [
    {
     "name": "stdout",
     "output_type": "stream",
     "text": [
      "+--------------------+--------+--------------------+--------------------+\n",
      "|            features|   label|      scaledFeatures|     indexedFeatures|\n",
      "+--------------------+--------+--------------------+--------------------+\n",
      "|[3.0,1.0,1180.0,7...|221900.0|[3.21960992146999...|[3.0,1.0,1180.0,7...|\n",
      "|[3.0,2.25,2570.0,...|538000.0|[3.21960992146999...|[3.0,2.25,2570.0,...|\n",
      "|[2.0,1.0,770.0,6....|180000.0|[2.14640661431333...|[2.0,1.0,770.0,6....|\n",
      "|[4.0,3.0,1960.0,7...|604000.0|[4.29281322862666...|[4.0,3.0,1960.0,7...|\n",
      "|[3.0,2.0,1680.0,8...|510000.0|[3.21960992146999...|[3.0,2.0,1680.0,8...|\n",
      "+--------------------+--------+--------------------+--------------------+\n",
      "only showing top 5 rows\n",
      "\n"
     ]
    }
   ],
   "source": [
    "featureIndexer= VectorIndexer(inputCol=\"features\",outputCol=\"indexedFeatures\",maxCategories=4).fit(corr_scaledData)\n",
    "corr_data= featureIndexer.transform(corr_scaledData)\n",
    "corr_data.show(5,True)"
   ]
  },
  {
   "cell_type": "code",
   "execution_count": 52,
   "metadata": {},
   "outputs": [
    {
     "name": "stdout",
     "output_type": "stream",
     "text": [
      "+--------------------+--------+------------------+\n",
      "|            features|   label|        prediction|\n",
      "+--------------------+--------+------------------+\n",
      "|[1.0,0.0,23244.0,...|484000.0|344057.71950129693|\n",
      "|[1.0,0.0,24501.0,...|280000.0| 300862.1547883057|\n",
      "|[1.0,0.5,1642.0,1...|255000.0|391935.75807993807|\n",
      "|[1.0,0.75,1801.0,...|276000.0| 372794.0082627012|\n",
      "|[1.0,0.75,2885.0,...|310000.0| 346808.4987570191|\n",
      "+--------------------+--------+------------------+\n",
      "only showing top 5 rows\n",
      "\n",
      "\n",
      "rmse : 140125.10917290166\n",
      "\n"
     ]
    }
   ],
   "source": [
    "(trainingData, testData)= data.randomSplit([0.8,0.2])\n",
    "rf=RandomForestRegressor(featuresCol='features',numTrees=30,minInfoGain=0.6,maxDepth=4)\n",
    "model,rmse=getModelAndPrintRMSE(trainingData,testData,rf)"
   ]
  },
  {
   "cell_type": "code",
   "execution_count": 53,
   "metadata": {},
   "outputs": [
    {
     "data": {
      "text/html": [
       "<div>\n",
       "<style scoped>\n",
       "    .dataframe tbody tr th:only-of-type {\n",
       "        vertical-align: middle;\n",
       "    }\n",
       "\n",
       "    .dataframe tbody tr th {\n",
       "        vertical-align: top;\n",
       "    }\n",
       "\n",
       "    .dataframe thead th {\n",
       "        text-align: right;\n",
       "    }\n",
       "</style>\n",
       "<table border=\"1\" class=\"dataframe\">\n",
       "  <thead>\n",
       "    <tr style=\"text-align: right;\">\n",
       "      <th></th>\n",
       "      <th>model</th>\n",
       "      <th>correlated</th>\n",
       "      <th>rmse</th>\n",
       "    </tr>\n",
       "  </thead>\n",
       "  <tbody>\n",
       "    <tr>\n",
       "      <th>0</th>\n",
       "      <td>random forest</td>\n",
       "      <td>False</td>\n",
       "      <td>134737.810995</td>\n",
       "    </tr>\n",
       "    <tr>\n",
       "      <th>1</th>\n",
       "      <td>linear regression</td>\n",
       "      <td>False</td>\n",
       "      <td>126608.495908</td>\n",
       "    </tr>\n",
       "    <tr>\n",
       "      <th>2</th>\n",
       "      <td>gradient boosted tree</td>\n",
       "      <td>False</td>\n",
       "      <td>119220.553082</td>\n",
       "    </tr>\n",
       "    <tr>\n",
       "      <th>3</th>\n",
       "      <td>random forest</td>\n",
       "      <td>True</td>\n",
       "      <td>140125.109173</td>\n",
       "    </tr>\n",
       "  </tbody>\n",
       "</table>\n",
       "</div>"
      ],
      "text/plain": [
       "                   model correlated           rmse\n",
       "0          random forest      False  134737.810995\n",
       "1      linear regression      False  126608.495908\n",
       "2  gradient boosted tree      False  119220.553082\n",
       "3          random forest       True  140125.109173"
      ]
     },
     "execution_count": 53,
     "metadata": {},
     "output_type": "execute_result"
    }
   ],
   "source": [
    "rmse_and_models_data.loc[3]=[\"random forest\"]+[corr]+[rmse]\n",
    "rmse_and_models_data"
   ]
  },
  {
   "cell_type": "code",
   "execution_count": 55,
   "metadata": {},
   "outputs": [
    {
     "name": "stdout",
     "output_type": "stream",
     "text": [
      "+--------------------+--------+------------------+\n",
      "|            features|   label|        prediction|\n",
      "+--------------------+--------+------------------+\n",
      "|[1.0,0.0,23244.0,...|484000.0|356921.20420234045|\n",
      "|[1.0,0.0,24501.0,...|280000.0| -91658.8645943813|\n",
      "|[1.0,0.5,1642.0,1...|255000.0| 365125.2401868561|\n",
      "|[1.0,0.75,1801.0,...|276000.0| 239009.4230535971|\n",
      "|[1.0,0.75,2885.0,...|310000.0| 262619.3763991222|\n",
      "+--------------------+--------+------------------+\n",
      "only showing top 5 rows\n",
      "\n",
      "\n",
      "rmse : 131245.14749116797\n",
      "\n"
     ]
    },
    {
     "data": {
      "text/html": [
       "<div>\n",
       "<style scoped>\n",
       "    .dataframe tbody tr th:only-of-type {\n",
       "        vertical-align: middle;\n",
       "    }\n",
       "\n",
       "    .dataframe tbody tr th {\n",
       "        vertical-align: top;\n",
       "    }\n",
       "\n",
       "    .dataframe thead th {\n",
       "        text-align: right;\n",
       "    }\n",
       "</style>\n",
       "<table border=\"1\" class=\"dataframe\">\n",
       "  <thead>\n",
       "    <tr style=\"text-align: right;\">\n",
       "      <th></th>\n",
       "      <th>model</th>\n",
       "      <th>correlated</th>\n",
       "      <th>rmse</th>\n",
       "    </tr>\n",
       "  </thead>\n",
       "  <tbody>\n",
       "    <tr>\n",
       "      <th>0</th>\n",
       "      <td>random forest</td>\n",
       "      <td>False</td>\n",
       "      <td>134737.810995</td>\n",
       "    </tr>\n",
       "    <tr>\n",
       "      <th>1</th>\n",
       "      <td>linear regression</td>\n",
       "      <td>False</td>\n",
       "      <td>126608.495908</td>\n",
       "    </tr>\n",
       "    <tr>\n",
       "      <th>2</th>\n",
       "      <td>gradient boosted tree</td>\n",
       "      <td>False</td>\n",
       "      <td>119220.553082</td>\n",
       "    </tr>\n",
       "    <tr>\n",
       "      <th>3</th>\n",
       "      <td>random forest</td>\n",
       "      <td>True</td>\n",
       "      <td>140125.109173</td>\n",
       "    </tr>\n",
       "    <tr>\n",
       "      <th>4</th>\n",
       "      <td>linear regression</td>\n",
       "      <td>True</td>\n",
       "      <td>131245.147491</td>\n",
       "    </tr>\n",
       "  </tbody>\n",
       "</table>\n",
       "</div>"
      ],
      "text/plain": [
       "                   model correlated           rmse\n",
       "0          random forest      False  134737.810995\n",
       "1      linear regression      False  126608.495908\n",
       "2  gradient boosted tree      False  119220.553082\n",
       "3          random forest       True  140125.109173\n",
       "4      linear regression       True  131245.147491"
      ]
     },
     "execution_count": 55,
     "metadata": {},
     "output_type": "execute_result"
    }
   ],
   "source": [
    "lr=LinearRegression(featuresCol='features',maxIter=10000,tol=0.001)\n",
    "lr_model,rmse=getModelAndPrintRMSE(trainingData,testData,lr)\n",
    "rmse_and_models_data.loc[4]=[\"linear regression\"]+[corr]+[rmse]\n",
    "rmse_and_models_data"
   ]
  },
  {
   "cell_type": "code",
   "execution_count": 56,
   "metadata": {},
   "outputs": [
    {
     "name": "stdout",
     "output_type": "stream",
     "text": [
      "+--------------------+--------+------------------+\n",
      "|            features|   label|        prediction|\n",
      "+--------------------+--------+------------------+\n",
      "|[1.0,0.0,23244.0,...|484000.0| 377169.5746330996|\n",
      "|[1.0,0.0,24501.0,...|280000.0|174878.67383512884|\n",
      "|[1.0,0.5,1642.0,1...|255000.0|388021.08348373737|\n",
      "|[1.0,0.75,1801.0,...|276000.0| 199589.3916954998|\n",
      "|[1.0,0.75,2885.0,...|310000.0| 287311.9666033844|\n",
      "+--------------------+--------+------------------+\n",
      "only showing top 5 rows\n",
      "\n",
      "\n",
      "rmse : 128514.30808200256\n",
      "\n"
     ]
    },
    {
     "data": {
      "text/html": [
       "<div>\n",
       "<style scoped>\n",
       "    .dataframe tbody tr th:only-of-type {\n",
       "        vertical-align: middle;\n",
       "    }\n",
       "\n",
       "    .dataframe tbody tr th {\n",
       "        vertical-align: top;\n",
       "    }\n",
       "\n",
       "    .dataframe thead th {\n",
       "        text-align: right;\n",
       "    }\n",
       "</style>\n",
       "<table border=\"1\" class=\"dataframe\">\n",
       "  <thead>\n",
       "    <tr style=\"text-align: right;\">\n",
       "      <th></th>\n",
       "      <th>model</th>\n",
       "      <th>correlated</th>\n",
       "      <th>rmse</th>\n",
       "    </tr>\n",
       "  </thead>\n",
       "  <tbody>\n",
       "    <tr>\n",
       "      <th>0</th>\n",
       "      <td>random forest</td>\n",
       "      <td>False</td>\n",
       "      <td>134737.810995</td>\n",
       "    </tr>\n",
       "    <tr>\n",
       "      <th>1</th>\n",
       "      <td>linear regression</td>\n",
       "      <td>False</td>\n",
       "      <td>126608.495908</td>\n",
       "    </tr>\n",
       "    <tr>\n",
       "      <th>2</th>\n",
       "      <td>gradient boosted tree</td>\n",
       "      <td>False</td>\n",
       "      <td>119220.553082</td>\n",
       "    </tr>\n",
       "    <tr>\n",
       "      <th>3</th>\n",
       "      <td>random forest</td>\n",
       "      <td>True</td>\n",
       "      <td>140125.109173</td>\n",
       "    </tr>\n",
       "    <tr>\n",
       "      <th>4</th>\n",
       "      <td>linear regression</td>\n",
       "      <td>True</td>\n",
       "      <td>131245.147491</td>\n",
       "    </tr>\n",
       "    <tr>\n",
       "      <th>5</th>\n",
       "      <td>gradient boosted tree</td>\n",
       "      <td>True</td>\n",
       "      <td>128514.308082</td>\n",
       "    </tr>\n",
       "  </tbody>\n",
       "</table>\n",
       "</div>"
      ],
      "text/plain": [
       "                   model correlated           rmse\n",
       "0          random forest      False  134737.810995\n",
       "1      linear regression      False  126608.495908\n",
       "2  gradient boosted tree      False  119220.553082\n",
       "3          random forest       True  140125.109173\n",
       "4      linear regression       True  131245.147491\n",
       "5  gradient boosted tree       True  128514.308082"
      ]
     },
     "execution_count": 56,
     "metadata": {},
     "output_type": "execute_result"
    }
   ],
   "source": [
    "gbt=GBTRegressor(featuresCol='features',maxIter=100,stepSize=0.01)\n",
    "gbt_model,rmse=getModelAndPrintRMSE(trainingData,testData,gbt)\n",
    "rmse_and_models_data.loc[5]=[\"gradient boosted tree\"]+[corr]+[rmse]\n",
    "rmse_and_models_data"
   ]
  },
  {
   "cell_type": "code",
   "execution_count": 57,
   "metadata": {},
   "outputs": [],
   "source": [
    "import matplotlib.pyplot as plt\n",
    "import seaborn as sns"
   ]
  },
  {
   "cell_type": "code",
   "execution_count": 58,
   "metadata": {},
   "outputs": [
    {
     "data": {
      "text/plain": [
       "<matplotlib.axes._subplots.AxesSubplot at 0x7fcd438015e0>"
      ]
     },
     "execution_count": 58,
     "metadata": {},
     "output_type": "execute_result"
    },
    {
     "data": {
      "image/png": "[encoded data removed]",
      "text/plain": [
       "<Figure size 432x288 with 1 Axes>"
      ]
     },
     "metadata": {
      "needs_background": "light"
     },
     "output_type": "display_data"
    }
   ],
   "source": [
    "sns.lineplot(data=rmse_and_models_data,x='model',y='rmse',hue='correlated')"
   ]
  },
  {
   "cell_type": "code",
   "execution_count": 59,
   "metadata": {},
   "outputs": [],
   "source": [
    "#take only the viable featrues from row\n",
    "def make_viable_list(line):\n",
    "    #(\"_c1\",\"_c2\",\"_c3\",\"_c4\",\"_c6\",\"_c7\",\"_c8\",\"_c9\",\"_c10\",\"_c11\",\"_c12\",\"_c13\",\"_c14\",\"_c15\",\"_c19\",\"_c20\")\n",
    "   # row[0],row[1],row[2],row[3],row[4],row[5],row[6],row[7],row[8],row[9],row[10],row[11],row[12],row[13],row[14],row[15]\n",
    "    return [line[1],line[2],line[3],line[4],line[6],line[7],line[8],line[9],line[10],line[11],line[12],line[13],line[14],line[15],line[19],line[20]]"
   ]
  },
  {
   "cell_type": "code",
   "execution_count": 60,
   "metadata": {},
   "outputs": [],
   "source": [
    "#modifate 1 row \n",
    "def modifate_row(row):\n",
    "    row=concat_tuples(row,get_date_details(row[0]))\n",
    "    row= delete_row(row,0)\n",
    "    # converting all the strings to floating\n",
    "    row=convert_to_numbers(row)#maybe i will delete it later\n",
    "    row=concat_tuples(row,add_boolean_renovated(row[12]))\n",
    "    \n",
    "    #row=concat_tuples(row,add_boolean_renovated(row[13]))\n",
    "    row=delete_row(row,12)\n",
    "    #print(row)\n",
    "    row=concat_tuples(row,transform_to_oneHotEncoder(row[14]))\n",
    "    row=delete_row(row,14)\n",
    "    return row\n",
    "\n",
    "#row.rdd.map(lambda row: [Vectors.dense(row[1:]),row[0]]).toDF(['features','label'])\n",
    "                                                \n",
    "\n"
   ]
  },
  {
   "cell_type": "code",
   "execution_count": 61,
   "metadata": {},
   "outputs": [
    {
     "name": "stdout",
     "output_type": "stream",
     "text": [
      "28\n"
     ]
    }
   ],
   "source": [
    "row=['20150324T000000', '757500', '4', '2.5', '6845', '2', '0', '0', '3', '9', '3420', '0', '2009', '0','3202','2323']\n",
    "row=modifate_row(row)\n",
    "print(len(row))"
   ]
  },
  {
   "cell_type": "code",
   "execution_count": 62,
   "metadata": {},
   "outputs": [
    {
     "data": {
      "text/plain": [
       "[3]"
      ]
     },
     "execution_count": 62,
     "metadata": {},
     "output_type": "execute_result"
    }
   ],
   "source": [
    "get_date_details('20150324T000000')"
   ]
  },
  {
   "cell_type": "code",
   "execution_count": 63,
   "metadata": {},
   "outputs": [],
   "source": [
    "def transformData_for_prediction(row):\n",
    "    return spark.createDataFrame([(Vectors.dense(row[1:]),row[0])],[\"features\",\"label\"])\n",
    "    \n"
   ]
  },
  {
   "cell_type": "code",
   "execution_count": 64,
   "metadata": {},
   "outputs": [
    {
     "name": "stdout",
     "output_type": "stream",
     "text": [
      "(757500.0, 4.0, 2.5, 6845.0, 2.0, 0.0, 0.0, 3.0, 9.0, 3420.0, 0.0, 2009.0, 3202.0, 2323.0, 0.0, 0, 0, 0, 1, 0, 0, 0, 0, 0, 0, 0, 0, 0)\n",
      "features = [4.0,2.5,6845.0,2.0,0.0,0.0,3.0,9.0,3420.0,0.0,2009.0,3202.0,2323.0,0.0,0.0,0.0,0.0,1.0,0.0,0.0,0.0,0.0,0.0,0.0,0.0,0.0,0.0]\n",
      "label= 757500.0\n",
      "prediction = 658620.1835505296\n"
     ]
    }
   ],
   "source": [
    "#prediction for a single row \n",
    "row=['20150324T000000', '757500', '4', '2.5', '6845', '2', '0', '0', '3', '9', '3420', '0', '2009', '0','3202','2323']\n",
    "row=modifate_row(row)\n",
    "print(row)\n",
    "row= transformData_for_prediction(row)\n",
    "#print(row)\n",
    "#print(row.show())\n",
    "pred=gbt_model.transform(row)\n",
    "#print(pred)\n",
    "#pred.show()\n",
    "#pred.show()\n",
    "prediction=pred.select(\"features\",\"label\",\"prediction\").collect()\n",
    "print(f'features = {prediction[0].features}\\nlabel= {prediction[0].label}\\nprediction = {prediction[0].prediction}')\n",
    "#print(pred.predic)\n",
    "#print(row)\n"
   ]
  },
  {
   "cell_type": "code",
   "execution_count": null,
   "metadata": {},
   "outputs": [
    {
     "name": "stdout",
     "output_type": "stream",
     "text": [
      "features = [3.0,2.5,1452.0,2.5,0.0,0.0,3.0,9.0,1240.0,330.0,2007.0,1670.0,1596.0,0.0,0.0,0.0,0.0,0.0,1.0,0.0,0.0,0.0,0.0,0.0,0.0,0.0,0.0]\n",
      "price= 547000.0\n",
      "prediction = 644060.3435081143\n",
      "\n",
      "features = [3.0,2.5,6604.0,2.0,0.0,0.0,3.0,7.0,1930.0,0.0,2014.0,910.0,6604.0,0.0,0.0,0.0,1.0,0.0,0.0,0.0,0.0,0.0,0.0,0.0,0.0,0.0,0.0]\n",
      "price= 550000.0\n",
      "prediction = 300951.92449239956\n",
      "\n",
      "features = [3.0,2.0,8100.0,1.0,0.0,0.0,3.0,7.0,1060.0,530.0,1996.0,1590.0,8100.0,0.0,0.0,0.0,0.0,0.0,0.0,0.0,0.0,0.0,0.0,1.0,0.0,0.0,0.0]\n",
      "price= 250000.0\n",
      "prediction = 352625.85592962266\n",
      "\n",
      "features = [4.0,4.5,7746.0,2.0,0.0,0.0,3.0,10.0,3720.0,0.0,2014.0,3080.0,11067.0,0.0,0.0,1.0,0.0,0.0,0.0,0.0,0.0,0.0,0.0,0.0,0.0,0.0,0.0]\n",
      "price= 960000.0\n",
      "prediction = 782610.5167809584\n",
      "\n",
      "features = [3.0,2.5,1891.0,3.0,0.0,0.0,3.0,9.0,1990.0,0.0,2012.0,1990.0,3600.0,0.0,0.0,0.0,1.0,0.0,0.0,0.0,0.0,0.0,0.0,0.0,0.0,0.0,0.0]\n",
      "price= 1080000.0\n",
      "prediction = 657765.8727425036\n",
      "\n",
      "features = [5.0,3.25,4900.0,2.0,0.0,2.0,3.0,9.0,2500.0,840.0,2014.0,3220.0,5200.0,0.0,0.0,0.0,0.0,0.0,0.0,0.0,0.0,0.0,0.0,0.0,0.0,1.0,0.0]\n",
      "price= 637850.0\n",
      "prediction = 899631.0611154742\n",
      "\n",
      "features = [4.0,4.25,5884.0,2.0,0.0,1.0,3.0,11.0,3230.0,1240.0,2010.0,2570.0,6000.0,0.0,0.0,0.0,0.0,0.0,0.0,0.0,0.0,0.0,0.0,0.0,1.0,0.0,0.0]\n",
      "price= 2950000.0\n",
      "prediction = 825254.6045071464\n",
      "\n",
      "features = [4.0,2.5,6284.0,2.0,0.0,0.0,3.0,9.0,2840.0,0.0,2013.0,2790.0,7168.0,0.0,0.0,0.0,0.0,0.0,0.0,0.0,0.0,0.0,1.0,0.0,0.0,0.0,0.0]\n",
      "price= 636230.0\n",
      "prediction = 619679.5295066352\n",
      "\n",
      "features = [3.0,2.5,1131.0,3.0,0.0,0.0,3.0,8.0,1530.0,0.0,2009.0,1530.0,1445.0,0.0,0.0,0.0,0.0,0.0,0.0,0.0,0.0,0.0,0.0,0.0,0.0,0.0,1.0]\n",
      "price= 375000.0\n",
      "prediction = 469912.7750854619\n",
      "\n",
      "features = [2.0,1.0,1289.0,2.0,0.0,0.0,3.0,7.0,1030.0,260.0,2005.0,1290.0,1332.0,0.0,0.0,0.0,0.0,1.0,0.0,0.0,0.0,0.0,0.0,0.0,0.0,0.0,0.0]\n",
      "price= 441000.0\n",
      "prediction = 307039.5501889465\n",
      "\n",
      "features = [3.0,2.5,1487.0,3.0,0.0,0.0,3.0,8.0,1600.0,180.0,2006.0,1780.0,1300.0,0.0,0.0,0.0,0.0,0.0,0.0,0.0,1.0,0.0,0.0,0.0,0.0,0.0,0.0]\n",
      "price= 586500.0\n",
      "prediction = 500855.24748400325\n",
      "\n",
      "features = [4.0,2.5,6973.0,2.0,0.0,0.0,3.0,8.0,1930.0,410.0,2005.0,2950.0,6908.0,0.0,0.0,1.0,0.0,0.0,0.0,0.0,0.0,0.0,0.0,0.0,0.0,0.0,0.0]\n",
      "price= 544000.0\n",
      "prediction = 503743.53424960584\n",
      "\n",
      "features = [4.0,2.5,5021.0,2.0,0.0,0.0,3.0,7.0,2390.0,0.0,2002.0,2520.0,5333.0,0.0,0.0,0.0,0.0,0.0,0.0,0.0,0.0,0.0,1.0,0.0,0.0,0.0,0.0]\n",
      "price= 425000.0\n",
      "prediction = 399251.231126047\n",
      "\n",
      "features = [3.0,2.25,2800.0,2.0,0.0,0.0,3.0,7.0,1489.0,0.0,2012.0,1584.0,2800.0,0.0,0.0,0.0,0.0,0.0,1.0,0.0,0.0,0.0,0.0,0.0,0.0,0.0,0.0]\n",
      "price= 265000.0\n",
      "prediction = 315252.3993976379\n",
      "\n",
      "features = [4.0,2.5,3777.0,2.0,0.0,0.0,3.0,8.0,2090.0,0.0,2012.0,2160.0,3993.0,0.0,0.0,0.0,0.0,1.0,0.0,0.0,0.0,0.0,0.0,0.0,0.0,0.0,0.0]\n",
      "price= 374950.0\n",
      "prediction = 447254.1457702837\n",
      "\n",
      "features = [3.0,1.0,8400.0,1.0,0.0,0.0,4.0,7.0,1140.0,0.0,1960.0,1400.0,9000.0,0.0,0.0,0.0,0.0,1.0,0.0,0.0,0.0,0.0,0.0,0.0,0.0,0.0,0.0]\n",
      "price= 294570.0\n",
      "prediction = 296490.2363616927\n",
      "\n",
      "features = [3.0,2.5,39553.0,1.0,0.0,0.0,3.0,7.0,2075.0,0.0,2012.0,1960.0,9047.0,0.0,0.0,0.0,0.0,0.0,1.0,0.0,0.0,0.0,0.0,0.0,0.0,0.0,0.0]\n",
      "price= 430000.0\n",
      "prediction = 394616.0807352847\n",
      "\n",
      "features = [3.0,2.5,1477.0,2.0,0.0,0.0,3.0,7.0,1670.0,290.0,2012.0,1980.0,1467.0,0.0,0.0,0.0,0.0,0.0,0.0,0.0,0.0,0.0,0.0,0.0,1.0,0.0,0.0]\n",
      "price= 300000.0\n",
      "prediction = 404089.24838982127\n",
      "\n",
      "features = [5.0,3.5,6031.0,2.0,0.0,0.0,3.0,8.0,2738.0,0.0,2014.0,2738.0,5201.0,0.0,0.0,0.0,0.0,0.0,0.0,0.0,0.0,0.0,0.0,1.0,0.0,0.0,0.0]\n",
      "price= 395950.0\n",
      "prediction = 526770.9038635656\n",
      "\n",
      "features = [4.0,2.5,11088.0,2.0,0.0,1.0,3.0,8.0,3691.0,0.0,2013.0,3190.0,11270.0,0.0,0.0,0.0,0.0,0.0,0.0,0.0,0.0,1.0,0.0,0.0,0.0,0.0,0.0]\n",
      "price= 800000.0\n",
      "prediction = 550472.3308016134\n",
      "\n",
      "features = [3.0,2.5,3600.0,2.0,0.0,0.0,3.0,8.0,1413.0,0.0,2011.0,2150.0,3869.0,0.0,0.0,0.0,0.0,0.0,0.0,0.0,1.0,0.0,0.0,0.0,0.0,0.0,0.0]\n",
      "price= 286800.0\n",
      "prediction = 437066.68736508384\n",
      "\n",
      "features = [3.0,2.5,5171.0,2.0,0.0,0.0,3.0,8.0,2340.0,0.0,2013.0,2790.0,5684.0,0.0,0.0,0.0,0.0,0.0,0.0,0.0,0.0,1.0,0.0,0.0,0.0,0.0,0.0]\n",
      "price= 439990.0\n",
      "prediction = 503282.0244199956\n",
      "\n",
      "features = [4.0,3.5,3763.0,2.0,0.0,0.0,3.0,8.0,1990.0,520.0,2013.0,2560.0,3820.0,0.0,0.0,0.0,0.0,0.0,0.0,0.0,0.0,0.0,0.0,0.0,0.0,1.0,0.0]\n",
      "price= 680000.0\n",
      "prediction = 548146.1705640252\n",
      "\n",
      "features = [3.0,2.5,1362.0,2.0,0.0,0.0,3.0,8.0,880.0,420.0,2008.0,1300.0,1251.0,0.0,0.0,0.0,0.0,0.0,1.0,0.0,0.0,0.0,0.0,0.0,0.0,0.0,0.0]\n",
      "price= 375000.0\n",
      "prediction = 447243.4536421811\n",
      "\n",
      "features = [6.0,3.0,4213.0,2.0,0.0,0.0,3.0,8.0,2800.0,0.0,1998.0,1440.0,3960.0,0.0,0.0,0.0,0.0,1.0,0.0,0.0,0.0,0.0,0.0,0.0,0.0,0.0,0.0]\n",
      "price= 677790.0\n",
      "prediction = 521081.97594938485\n",
      "\n",
      "features = [3.0,2.5,4777.0,2.0,0.0,0.0,3.0,8.0,1650.0,0.0,2013.0,1800.0,3331.0,0.0,0.0,0.0,0.0,0.0,0.0,1.0,0.0,0.0,0.0,0.0,0.0,0.0,0.0]\n",
      "price= 424950.0\n",
      "prediction = 437629.14223620953\n",
      "\n",
      "features = [2.0,2.25,2884.0,2.0,0.0,0.0,3.0,7.0,1061.0,0.0,2013.0,1481.0,2887.0,0.0,0.0,0.0,0.0,1.0,0.0,0.0,0.0,0.0,0.0,0.0,0.0,0.0,0.0]\n",
      "price= 223990.0\n",
      "prediction = 304832.4193019511\n",
      "\n",
      "features = [3.0,3.25,983.0,2.0,0.0,0.0,3.0,8.0,1180.0,300.0,2013.0,1330.0,1062.0,0.0,0.0,0.0,0.0,0.0,0.0,0.0,0.0,0.0,0.0,0.0,0.0,0.0,1.0]\n",
      "price= 312500.0\n",
      "prediction = 445564.6998412404\n",
      "\n",
      "features = [4.0,2.5,14355.0,2.0,0.0,0.0,3.0,10.0,2846.0,556.0,2014.0,3402.0,8487.0,0.0,0.0,0.0,0.0,0.0,0.0,1.0,0.0,0.0,0.0,0.0,0.0,0.0,0.0]\n",
      "price= 498000.0\n",
      "prediction = 833370.3953530991\n",
      "\n",
      "features = [4.0,2.5,6120.0,2.0,0.0,0.0,3.0,8.0,2542.0,0.0,2014.0,2419.0,8984.0,0.0,0.0,0.0,0.0,0.0,0.0,0.0,0.0,0.0,0.0,0.0,1.0,0.0,0.0]\n",
      "price= 359950.0\n",
      "prediction = 448084.201627465\n",
      "\n",
      "features = [4.0,2.75,5559.0,2.0,0.0,0.0,3.0,9.0,3320.0,0.0,2012.0,3400.0,6854.0,0.0,0.0,1.0,0.0,0.0,0.0,0.0,0.0,0.0,0.0,0.0,0.0,0.0,0.0]\n",
      "price= 850000.0\n",
      "prediction = 772151.6852888683\n",
      "\n",
      "features = [3.0,2.5,151588.0,2.0,0.0,0.0,3.0,9.0,3150.0,0.0,2007.0,2410.0,208652.0,0.0,0.0,0.0,0.0,0.0,0.0,1.0,0.0,0.0,0.0,0.0,0.0,0.0,0.0]\n",
      "price= 720000.0\n",
      "prediction = 649851.5237682068\n",
      "\n",
      "features = [4.0,2.5,9000.0,2.0,0.0,0.0,3.0,8.0,3010.0,0.0,2008.0,3250.0,5531.0,0.0,0.0,0.0,0.0,0.0,0.0,0.0,0.0,0.0,0.0,0.0,0.0,1.0,0.0]\n",
      "price= 530000.0\n",
      "prediction = 520296.33834504825\n",
      "\n",
      "features = [3.0,2.5,4898.0,2.0,0.0,0.0,3.0,7.0,1660.0,0.0,2011.0,1810.0,4462.0,0.0,0.0,0.0,0.0,0.0,0.0,0.0,0.0,0.0,0.0,0.0,1.0,0.0,0.0]\n",
      "price= 295000.0\n",
      "prediction = 306766.09957169695\n",
      "\n",
      "features = [3.0,2.25,1279.0,2.0,0.0,0.0,3.0,7.0,1116.0,414.0,2007.0,1320.0,1427.0,0.0,0.0,0.0,0.0,1.0,0.0,0.0,0.0,0.0,0.0,0.0,0.0,0.0,0.0]\n",
      "price= 390500.0\n",
      "prediction = 318147.9163766092\n",
      "\n",
      "features = [3.0,2.5,5000.0,2.0,0.0,0.0,3.0,7.0,1770.0,0.0,2009.0,2230.0,5200.0,0.0,0.0,0.0,0.0,0.0,0.0,0.0,0.0,0.0,0.0,0.0,1.0,0.0,0.0]\n",
      "price= 255500.0\n",
      "prediction = 386948.5988845142\n",
      "\n",
      "features = [3.0,3.0,1168.0,2.0,0.0,0.0,3.0,9.0,1600.0,360.0,2007.0,2080.0,1423.0,0.0,0.0,0.0,0.0,0.0,0.0,1.0,0.0,0.0,0.0,0.0,0.0,0.0,0.0]\n",
      "price= 556000.0\n",
      "prediction = 621055.8190877815\n",
      "\n",
      "features = [3.0,2.5,932.0,3.0,0.0,0.0,3.0,8.0,1180.0,0.0,2010.0,1180.0,2632.0,0.0,0.0,0.0,0.0,0.0,0.0,0.0,0.0,0.0,0.0,0.0,1.0,0.0,0.0]\n",
      "price= 455000.0\n",
      "prediction = 434871.7303841212\n",
      "\n",
      "features = [4.0,2.5,6000.0,2.0,0.0,0.0,3.0,7.0,1889.0,0.0,2012.0,1990.0,6350.0,0.0,0.0,0.0,0.0,0.0,0.0,0.0,0.0,1.0,0.0,0.0,0.0,0.0,0.0]\n",
      "price= 277950.0\n",
      "prediction = 385146.3024817474\n",
      "\n",
      "features = [4.0,2.5,6000.0,2.0,0.0,0.0,3.0,9.0,3040.0,0.0,2007.0,2640.0,6000.0,0.0,0.0,0.0,0.0,0.0,1.0,0.0,0.0,0.0,0.0,0.0,0.0,0.0,0.0]\n",
      "price= 431000.0\n",
      "prediction = 640786.3119382828\n",
      "\n",
      "features = [4.0,2.75,6787.0,2.0,0.0,0.0,3.0,9.0,3420.0,0.0,2010.0,3450.0,6137.0,0.0,0.0,0.0,0.0,0.0,0.0,0.0,0.0,0.0,0.0,0.0,0.0,1.0,0.0]\n",
      "price= 780000.0\n",
      "prediction = 772779.9742614401\n",
      "\n",
      "features = [2.0,2.0,1303.0,2.0,0.0,0.0,3.0,8.0,800.0,390.0,2009.0,1670.0,2425.0,0.0,0.0,0.0,0.0,0.0,1.0,0.0,0.0,0.0,0.0,0.0,0.0,0.0,0.0]\n",
      "price= 455000.0\n",
      "prediction = 455803.5009215466\n",
      "\n",
      "features = [3.0,3.25,936.0,2.0,0.0,0.0,3.0,8.0,1030.0,690.0,2004.0,1720.0,1527.0,0.0,0.0,0.0,0.0,0.0,0.0,0.0,0.0,0.0,0.0,0.0,1.0,0.0,0.0]\n",
      "price= 649000.0\n",
      "prediction = 464296.917311285\n",
      "\n",
      "features = [3.0,2.5,3043.0,2.0,0.0,0.0,3.0,7.0,1740.0,0.0,2012.0,1920.0,2869.0,0.0,0.0,0.0,0.0,0.0,0.0,0.0,0.0,1.0,0.0,0.0,0.0,0.0,0.0]\n",
      "price= 447000.0\n",
      "prediction = 390311.42196911393\n",
      "\n",
      "features = [3.0,2.25,1180.0,3.0,0.0,0.0,3.0,8.0,1300.0,0.0,2008.0,1300.0,1174.0,0.0,0.0,0.0,0.0,0.0,0.0,0.0,0.0,0.0,0.0,0.0,0.0,0.0,1.0]\n",
      "price= 515000.0\n",
      "prediction = 446201.3006039391\n",
      "\n",
      "features = [4.0,2.5,4247.0,2.0,0.0,0.0,3.0,8.0,2450.0,0.0,2013.0,2970.0,4685.0,0.0,0.0,0.0,0.0,0.0,0.0,1.0,0.0,0.0,0.0,0.0,0.0,0.0,0.0]\n",
      "price= 712198.0\n",
      "prediction = 504579.6924376274\n",
      "\n",
      "features = [3.0,1.5,785.0,2.0,0.0,0.0,3.0,8.0,920.0,270.0,2014.0,2820.0,5626.0,0.0,0.0,0.0,0.0,0.0,0.0,0.0,0.0,0.0,1.0,0.0,0.0,0.0,0.0]\n",
      "price= 277140.0\n",
      "prediction = 520692.0744436331\n",
      "\n",
      "features = [4.0,2.5,7204.0,2.0,0.0,0.0,3.0,10.0,3336.0,417.0,2008.0,3494.0,9375.0,0.0,0.0,0.0,0.0,0.0,0.0,1.0,0.0,0.0,0.0,0.0,0.0,0.0,0.0]\n",
      "price= 363000.0\n",
      "prediction = 843848.810409348\n",
      "\n",
      "features = [3.0,3.5,2212.0,2.0,0.0,0.0,3.0,7.0,1400.0,310.0,2013.0,1580.0,2212.0,0.0,0.0,0.0,0.0,0.0,1.0,0.0,0.0,0.0,0.0,0.0,0.0,0.0,0.0]\n",
      "price= 362500.0\n",
      "prediction = 311890.86339535774\n",
      "\n",
      "features = [5.0,3.5,6037.0,2.0,0.0,0.0,3.0,9.0,3440.0,0.0,2014.0,3270.0,6037.0,0.0,0.0,0.0,1.0,0.0,0.0,0.0,0.0,0.0,0.0,0.0,0.0,0.0,0.0]\n",
      "price= 598992.0\n",
      "prediction = 836325.1565209283\n",
      "\n",
      "features = [3.0,2.5,1250.0,3.0,0.0,0.0,3.0,8.0,1830.0,330.0,2010.0,1870.0,2825.0,0.0,0.0,0.0,0.0,0.0,0.0,0.0,0.0,0.0,0.0,0.0,0.0,0.0,1.0]\n",
      "price= 585000.0\n",
      "prediction = 507993.26009391464\n",
      "\n",
      "features = [3.0,2.5,47480.0,2.0,0.0,0.0,3.0,9.0,2390.0,0.0,2007.0,1720.0,44866.0,0.0,0.0,0.0,0.0,0.0,0.0,0.0,0.0,0.0,0.0,1.0,0.0,0.0,0.0]\n",
      "price= 460000.0\n",
      "prediction = 618873.7180341163\n",
      "\n",
      "features = [4.0,2.75,8850.0,2.0,0.0,0.0,3.0,10.0,3820.0,0.0,2014.0,2330.0,12000.0,0.0,0.0,0.0,0.0,0.0,0.0,0.0,0.0,1.0,0.0,0.0,0.0,0.0,0.0]\n",
      "price= 1270000.0\n",
      "prediction = 787372.9843618246\n",
      "\n",
      "features = [2.0,2.0,1039.0,2.0,0.0,0.0,3.0,7.0,840.0,280.0,2007.0,1130.0,5400.0,0.0,0.0,0.0,1.0,0.0,0.0,0.0,0.0,0.0,0.0,0.0,0.0,0.0,0.0]\n",
      "price= 380950.0\n",
      "prediction = 297850.56622633396\n",
      "\n",
      "features = [4.0,2.5,3916.0,2.0,0.0,0.0,3.0,8.0,2250.0,0.0,2014.0,2156.0,3920.0,0.0,0.0,0.0,0.0,0.0,0.0,0.0,0.0,1.0,0.0,0.0,0.0,0.0,0.0]\n",
      "price= 333490.0\n",
      "prediction = 450903.7094478199\n",
      "\n",
      "features = [4.0,3.5,6005.0,2.0,0.0,0.0,3.0,8.0,2750.0,760.0,2010.0,3090.0,5866.0,0.0,0.0,0.0,0.0,0.0,0.0,0.0,0.0,0.0,0.0,1.0,0.0,0.0,0.0]\n",
      "price= 540000.0\n",
      "prediction = 542744.0956511265\n",
      "\n",
      "features = [3.0,3.25,1487.0,2.0,0.0,0.0,3.0,8.0,1540.0,0.0,2011.0,1620.0,1104.0,0.0,0.0,0.0,0.0,0.0,0.0,0.0,1.0,0.0,0.0,0.0,0.0,0.0,0.0]\n",
      "price= 520000.0\n",
      "prediction = 438986.2787883143\n",
      "\n",
      "features = [2.0,2.25,705.0,2.0,0.0,0.0,3.0,7.0,1150.0,90.0,2009.0,1240.0,750.0,0.0,0.0,0.0,0.0,0.0,0.0,0.0,0.0,0.0,0.0,0.0,1.0,0.0,0.0]\n",
      "price= 315000.0\n",
      "prediction = 300683.4244695861\n",
      "\n",
      "features = [3.0,1.75,1165.0,2.0,0.0,0.0,3.0,8.0,1140.0,0.0,2014.0,1150.0,1552.0,0.0,0.0,0.0,0.0,0.0,0.0,0.0,0.0,1.0,0.0,0.0,0.0,0.0,0.0]\n",
      "price= 230000.0\n",
      "prediction = 422493.65993540006\n",
      "\n",
      "features = [2.0,1.5,1118.0,2.0,0.0,0.0,3.0,8.0,1020.0,140.0,2007.0,1210.0,1118.0,0.0,0.0,0.0,0.0,1.0,0.0,0.0,0.0,0.0,0.0,0.0,0.0,0.0,0.0]\n",
      "price= 487000.0\n",
      "prediction = 420613.27571676887\n",
      "\n",
      "features = [5.0,3.5,3865.0,2.5,0.0,0.0,3.0,8.0,2760.0,0.0,2013.0,2590.0,4587.0,0.0,0.0,0.0,0.0,0.0,0.0,0.0,0.0,0.0,1.0,0.0,0.0,0.0,0.0]\n",
      "price= 424950.0\n",
      "prediction = 533125.7894992988\n",
      "\n",
      "features = [3.0,2.25,1487.0,3.0,0.0,0.0,3.0,9.0,1580.0,0.0,2013.0,1600.0,1525.0,0.0,0.0,0.0,1.0,0.0,0.0,0.0,0.0,0.0,0.0,0.0,0.0,0.0,0.0]\n",
      "price= 542300.0\n",
      "prediction = 651759.8960589841\n",
      "\n",
      "features = [2.0,2.5,1329.0,2.0,0.0,0.0,3.0,8.0,1180.0,140.0,2007.0,1490.0,5000.0,0.0,0.0,0.0,0.0,0.0,0.0,0.0,0.0,0.0,0.0,1.0,0.0,0.0,0.0]\n",
      "price= 425000.0\n",
      "prediction = 439696.2727096731\n",
      "\n",
      "features = [3.0,3.25,1192.0,2.0,0.0,0.0,3.0,8.0,1180.0,300.0,2013.0,1330.0,1094.0,0.0,0.0,0.0,0.0,0.0,0.0,0.0,0.0,0.0,0.0,0.0,0.0,0.0,1.0]\n",
      "price= 320000.0\n",
      "prediction = 445564.6998412404\n",
      "\n",
      "features = [4.0,3.25,11467.0,2.0,0.0,0.0,3.0,10.0,3740.0,0.0,2014.0,2510.0,27520.0,0.0,0.0,0.0,0.0,0.0,0.0,0.0,0.0,1.0,0.0,0.0,0.0,0.0,0.0]\n",
      "price= 1140000.0\n",
      "prediction = 783932.8776795705\n",
      "\n",
      "features = [5.0,3.0,9752.0,1.0,0.0,0.0,3.0,8.0,1200.0,900.0,2007.0,1270.0,10200.0,0.0,0.0,0.0,0.0,0.0,0.0,1.0,0.0,0.0,0.0,0.0,0.0,0.0,0.0]\n",
      "price= 298450.0\n",
      "prediction = 438848.4023589538\n",
      "\n",
      "features = [4.0,2.5,5000.0,2.0,0.0,0.0,3.0,8.0,1950.0,0.0,2012.0,2710.0,5000.0,0.0,0.0,0.0,0.0,0.0,0.0,0.0,0.0,0.0,0.0,0.0,0.0,0.0,1.0]\n",
      "price= 425000.0\n",
      "prediction = 489443.43484773376\n",
      "\n",
      "features = [3.0,3.0,1568.0,3.0,0.0,0.0,3.0,8.0,1530.0,0.0,2012.0,1460.0,1224.0,0.0,0.0,0.0,0.0,0.0,0.0,0.0,0.0,0.0,0.0,0.0,1.0,0.0,0.0]\n",
      "price= 474950.0\n",
      "prediction = 471575.51320507034\n",
      "\n",
      "features = [3.0,2.5,4200.0,2.0,0.0,0.0,3.0,8.0,1820.0,0.0,2014.0,2370.0,4200.0,0.0,0.0,0.0,0.0,0.0,0.0,0.0,0.0,0.0,1.0,0.0,0.0,0.0,0.0]\n",
      "price= 307635.0\n",
      "prediction = 437066.68736508384\n",
      "\n",
      "features = [4.0,2.5,4848.0,2.0,0.0,0.0,3.0,8.0,2400.0,0.0,2004.0,1980.0,5199.0,0.0,0.0,0.0,0.0,0.0,0.0,0.0,0.0,0.0,0.0,0.0,0.0,0.0,1.0]\n",
      "price= 344000.0\n",
      "prediction = 452255.13769338926\n",
      "\n",
      "features = [3.0,2.5,6187.0,2.0,0.0,0.0,3.0,10.0,2760.0,0.0,2014.0,2760.0,6600.0,0.0,0.0,0.0,0.0,0.0,0.0,0.0,0.0,0.0,0.0,0.0,0.0,0.0,1.0]\n",
      "price= 834538.0\n",
      "prediction = 738114.6100777568\n",
      "\n",
      "features = [5.0,2.75,5398.0,2.0,0.0,0.0,3.0,9.0,3010.0,0.0,2014.0,3360.0,5407.0,0.0,0.0,0.0,0.0,0.0,0.0,0.0,0.0,1.0,0.0,0.0,0.0,0.0,0.0]\n",
      "price= 769995.0\n",
      "prediction = 770493.3612728149\n",
      "\n",
      "features = [3.0,2.5,989.0,3.0,0.0,0.0,3.0,8.0,1408.0,0.0,2005.0,1408.0,1342.0,0.0,0.0,0.0,0.0,0.0,0.0,1.0,0.0,0.0,0.0,0.0,0.0,0.0,0.0]\n",
      "price= 416286.0\n",
      "prediction = 448701.08833181456\n",
      "\n",
      "features = [5.0,3.25,9387.0,2.0,0.0,2.0,3.0,9.0,3860.0,0.0,2006.0,3860.0,8979.0,0.0,0.0,0.0,0.0,0.0,1.0,0.0,0.0,0.0,0.0,0.0,0.0,0.0,0.0]\n",
      "price= 820875.0\n",
      "prediction = 832645.7545130579\n",
      "\n",
      "features = [4.0,2.5,6537.0,2.0,0.0,0.0,3.0,8.0,2490.0,0.0,2013.0,2520.0,5848.0,0.0,0.0,0.0,0.0,1.0,0.0,0.0,0.0,0.0,0.0,0.0,0.0,0.0,0.0]\n",
      "price= 595500.0\n",
      "prediction = 502353.7931098848\n",
      "\n",
      "features = [4.0,2.5,9608.0,2.0,0.0,0.0,3.0,10.0,3236.0,0.0,2005.0,3236.0,9660.0,0.0,0.0,0.0,0.0,0.0,0.0,0.0,0.0,0.0,0.0,1.0,0.0,0.0,0.0]\n",
      "price= 450000.0\n",
      "prediction = 830676.8806998917\n",
      "\n",
      "features = [4.0,2.5,5102.0,2.0,0.0,0.0,3.0,8.0,2560.0,0.0,2013.0,2586.0,5059.0,0.0,0.0,0.0,1.0,0.0,0.0,0.0,0.0,0.0,0.0,0.0,0.0,0.0,0.0]\n",
      "price= 379500.0\n",
      "prediction = 503749.82976093143\n",
      "\n",
      "features = [4.0,2.5,14538.0,2.0,0.0,0.0,3.0,8.0,2830.0,0.0,2003.0,2270.0,6939.0,0.0,0.0,0.0,0.0,0.0,1.0,0.0,0.0,0.0,0.0,0.0,0.0,0.0,0.0]\n",
      "price= 695000.0\n",
      "prediction = 494192.8900706009\n",
      "\n",
      "features = [3.0,2.0,7159.0,1.0,0.0,0.0,3.0,7.0,1451.0,0.0,2010.0,2303.0,6126.0,0.0,0.0,0.0,0.0,1.0,0.0,0.0,0.0,0.0,0.0,0.0,0.0,0.0,0.0]\n",
      "price= 300000.0\n",
      "prediction = 386020.36757440335\n",
      "\n",
      "features = [2.0,2.5,1347.0,3.0,0.0,0.0,3.0,8.0,1260.0,0.0,2005.0,1260.0,1356.0,0.0,0.0,0.0,0.0,0.0,0.0,0.0,1.0,0.0,0.0,0.0,0.0,0.0,0.0]\n",
      "price= 350000.0\n",
      "prediction = 446201.3006039391\n",
      "\n",
      "features = [5.0,3.25,5027.0,2.0,0.0,0.0,3.0,8.0,2040.0,870.0,2013.0,2910.0,5027.0,0.0,0.0,0.0,0.0,0.0,0.0,0.0,1.0,0.0,0.0,0.0,0.0,0.0,0.0]\n",
      "price= 515000.0\n",
      "prediction = 567008.4428844531\n",
      "\n",
      "features = [3.0,2.5,1845.0,3.0,0.0,0.0,3.0,8.0,1280.0,0.0,2009.0,1450.0,1889.0,0.0,0.0,0.0,0.0,0.0,0.0,0.0,0.0,0.0,0.0,1.0,0.0,0.0,0.0]\n",
      "price= 545000.0\n",
      "prediction = 456296.40220035287\n",
      "\n"
     ]
    }
   ],
   "source": [
    "from pyspark import SparkContext\n",
    "from kafka import KafkaConsumer\n",
    "from json import loads\n",
    "\n",
    "consumer = KafkaConsumer(\n",
    "    'sales',\n",
    "     bootstrap_servers=['localhost:9092'],\n",
    "     auto_offset_reset='earliest',\n",
    "     enable_auto_commit=True,\n",
    "     group_id='my-group',\n",
    "     value_deserializer=lambda x: loads(x.decode('utf-8')))\n",
    "\n",
    "data = []\n",
    "for message in consumer:\n",
    " \n",
    "    message = message.value\n",
    "    message = ','.join(message)\n",
    "    message = list(message.split(\",\"))\n",
    "    message = make_viable_list(message)\n",
    "    message =modifate_row(message)\n",
    "    message= transformData_for_prediction(message)\n",
    "    pred=gbt_model.transform(message)\n",
    "    prediction=pred.select(\"features\",\"label\",\"prediction\").collect()\n",
    "    print(f'features = {prediction[0].features}\\nprice= {prediction[0].label}\\nprediction = {prediction[0].prediction}\\n')\n",
    "    #print(pred.show())\n",
    "    #rdd = sc.parallelize(message) # make rdd\n",
    "    #rdd= change_rdd(rdd)\n",
    "    #print(rdd.collect())\n",
    "    \n",
    " #   data.append(message)\n",
    "   # print(data) \n",
    "  #  rdd = sc.parallelize(data) # make rdd\n",
    "    #print(rdd.collect())\n",
    " \n"
   ]
  },
  {
   "cell_type": "code",
   "execution_count": null,
   "metadata": {},
   "outputs": [],
   "source": []
  },
  {
   "cell_type": "code",
   "execution_count": null,
   "metadata": {},
   "outputs": [],
   "source": []
  },
  {
   "cell_type": "code",
   "execution_count": null,
   "metadata": {},
   "outputs": [],
   "source": []
  },
  {
   "cell_type": "code",
   "execution_count": null,
   "metadata": {},
   "outputs": [],
   "source": []
  },
  {
   "cell_type": "code",
   "execution_count": null,
   "metadata": {},
   "outputs": [],
   "source": []
  }
 ],
 "metadata": {
  "kernelspec": {
   "display_name": "Python 3",
   "language": "python",
   "name": "python3"
  },
  "language_info": {
   "codemirror_mode": {
    "name": "ipython",
    "version": 3
   },
   "file_extension": ".py",
   "mimetype": "text/x-python",
   "name": "python",
   "nbconvert_exporter": "python",
   "pygments_lexer": "ipython3",
   "version": "3.8.3"
  }
 },
 "nbformat": 4,
 "nbformat_minor": 4
}
